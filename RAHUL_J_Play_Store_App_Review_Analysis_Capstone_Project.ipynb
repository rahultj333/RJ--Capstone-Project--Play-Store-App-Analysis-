{
  "nbformat": 4,
  "nbformat_minor": 0,
  "metadata": {
    "colab": {
      "provenance": [],
      "authorship_tag": "ABX9TyMMuuQuSnnDM6Ae3GJxKOdw",
      "include_colab_link": true
    },
    "kernelspec": {
      "name": "python3",
      "display_name": "Python 3"
    },
    "language_info": {
      "name": "python"
    }
  },
  "cells": [
    {
      "cell_type": "markdown",
      "metadata": {
        "id": "view-in-github",
        "colab_type": "text"
      },
      "source": [
        "<a href=\"https://colab.research.google.com/github/rahultj333/RJ--Capstone-Project--Play-Store-App-Analysis-/blob/main/RAHUL_J_Play_Store_App_Review_Analysis_Capstone_Project.ipynb\" target=\"_parent\"><img src=\"https://colab.research.google.com/assets/colab-badge.svg\" alt=\"Open In Colab\"/></a>"
      ]
    },
    {
      "cell_type": "markdown",
      "source": [
        "**The Play Store apps data has enormous potential to drive app-making businesses to success. Actionable insights can be drawn for developers to work on and capture the Android market.\n",
        "Each app (row) has values for catergory, rating, size, and more. Another dataset contains customer reviews of the android apps.\n",
        "Explore and analyze the data to discover key factors responsible for app engagement and success.**"
      ],
      "metadata": {
        "id": "rs2R35aiArct"
      }
    },
    {
      "cell_type": "markdown",
      "source": [
        "# **Problem Statement**\n",
        "\n",
        "1) Two datasets are provided, one with basic information of Play Store App  and \n",
        "Second one is of users reviews.\n",
        "\n",
        "2) Every row contains various entries regarding a certain app. We will be doing Exploratory data analysis on this data set, which is a very important step in data science cycle, as it not only helps in taking very initial business decisions .Our objective will be to structure the data, clean it and present certain trends that we observe that can help us draw very preliminary conclusions about the probability of success of a newly launched app.  Also our objective is to Explore and analyze the data to discover key factors responsible for app engagement and success.\n",
        "\n",
        "3) We have to make a valuable insights from both the datasets in order to identify the important characteristics. \n",
        "\n"
      ],
      "metadata": {
        "id": "WNcAHl8RA_29"
      }
    },
    {
      "cell_type": "code",
      "execution_count": 1,
      "metadata": {
        "id": "K_NU8LzcAPYf"
      },
      "outputs": [],
      "source": [
        "#importing libraries used in the project\n",
        "\n",
        "import pandas as pd\n",
        "import numpy as np\n",
        "from datetime import datetime\n",
        "import matplotlib.pyplot as plt\n",
        "import seaborn as sns\n",
        "%matplotlib inline"
      ]
    },
    {
      "cell_type": "code",
      "source": [
        "# To access data set from drive mount drive\n",
        "from google.colab import drive\n",
        "drive.mount('/content/drive')"
      ],
      "metadata": {
        "colab": {
          "base_uri": "https://localhost:8080/"
        },
        "id": "8I2CD126BtRe",
        "outputId": "57fb8a87-ed18-40e7-df5e-14e491b9effd"
      },
      "execution_count": 2,
      "outputs": [
        {
          "output_type": "stream",
          "name": "stdout",
          "text": [
            "Mounted at /content/drive\n"
          ]
        }
      ]
    },
    {
      "cell_type": "code",
      "source": [
        "# Read the CSV files \n",
        "path_review='/content/drive/MyDrive/ALMABETTER - DATA SCI/DATA OF PROGRAM/User Reviews.csv'\n",
        "path_data='/content/drive/MyDrive/ALMABETTER - DATA SCI/DATA OF PROGRAM/Play Store Data.csv'\n",
        "df1=pd.read_csv(path_review)\n",
        "df2=pd.read_csv(path_data)"
      ],
      "metadata": {
        "id": "Lsb5t790BwoJ"
      },
      "execution_count": 3,
      "outputs": []
    }
  ]
}