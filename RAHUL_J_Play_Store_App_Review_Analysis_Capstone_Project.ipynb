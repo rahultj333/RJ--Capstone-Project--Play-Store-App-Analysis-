{
  "nbformat": 4,
  "nbformat_minor": 0,
  "metadata": {
    "colab": {
      "provenance": [],
      "collapsed_sections": [],
      "authorship_tag": "ABX9TyNavH88UmlrY7WbxU13fIln",
      "include_colab_link": true
    },
    "kernelspec": {
      "name": "python3",
      "display_name": "Python 3"
    },
    "language_info": {
      "name": "python"
    }
  },
  "cells": [
    {
      "cell_type": "markdown",
      "metadata": {
        "id": "view-in-github",
        "colab_type": "text"
      },
      "source": [
        "<a href=\"https://colab.research.google.com/github/rahultj333/RJ--Capstone-Project--Play-Store-App-Analysis-/blob/main/RAHUL_J_Play_Store_App_Review_Analysis_Capstone_Project.ipynb\" target=\"_parent\"><img src=\"https://colab.research.google.com/assets/colab-badge.svg\" alt=\"Open In Colab\"/></a>"
      ]
    },
    {
      "cell_type": "markdown",
      "source": [
        "**The Play Store apps data has enormous potential to drive app-making businesses to success. Actionable insights can be drawn for developers to work on and capture the Android market.\n",
        "Each app (row) has values for catergory, rating, size, and more. Another dataset contains customer reviews of the android apps.\n",
        "Explore and analyze the data to discover key factors responsible for app engagement and success.**"
      ],
      "metadata": {
        "id": "rs2R35aiArct"
      }
    },
    {
      "cell_type": "markdown",
      "source": [
        "# **Problem Statement**\n",
        "\n",
        "1) Two datasets are provided, one with basic information of Play Store App  and \n",
        "Second one is of users reviews.\n",
        "\n",
        "2) Every row contains various entries regarding a certain app. We will be doing Exploratory data analysis on this data set, which is a very important step in data science cycle, as it not only helps in taking very initial business decisions .Our objective will be to structure the data, clean it and present certain trends that we observe that can help us draw very preliminary conclusions about the probability of success of a newly launched app.  Also our objective is to Explore and analyze the data to discover key factors responsible for app engagement and success.\n",
        "\n",
        "3) We have to make a valuable insights from both the datasets in order to identify the important characteristics. \n",
        "\n"
      ],
      "metadata": {
        "id": "WNcAHl8RA_29"
      }
    },
    {
      "cell_type": "markdown",
      "source": [
        "# **Dataset Construction**\n",
        "\n",
        "\tMounting the drive : Because of Mounting we can access csv file to do analysis\n",
        "\n",
        "\tLoading Datasets : Two datasets is there in project First is store app and Second is User Reviews \n",
        "\n",
        "\tImport Libraries: Compulsory to use Libraries like Numpy , Pandas , Matplotlib and Seaborn .\n",
        "\n",
        "\tWhen your using Google colab then this necessary to use %matplotlib inline where plot graphics will appear in your notebook\n",
        "\n",
        "\tData Cleaning: Removing Outliers , Finding and Removing Null values\n",
        "\n",
        "\tData Assings: Replacing the Null Values with Mean ,Median & Mode with its suitable Condition.\n",
        "\n",
        "\tQuery Analysis: Analayzing the data sets to points of interest using visualization."
      ],
      "metadata": {
        "id": "h3hO2CfLDcIb"
      }
    },
    {
      "cell_type": "code",
      "execution_count": 1,
      "metadata": {
        "id": "K_NU8LzcAPYf"
      },
      "outputs": [],
      "source": [
        "#importing libraries used in the project\n",
        "\n",
        "import pandas as pd\n",
        "import numpy as np\n",
        "from datetime import datetime\n",
        "import matplotlib.pyplot as plt\n",
        "import seaborn as sns\n",
        "%matplotlib inline"
      ]
    },
    {
      "cell_type": "code",
      "source": [
        "# To access data set from drive mount drive\n",
        "from google.colab import drive\n",
        "drive.mount('/content/drive')"
      ],
      "metadata": {
        "colab": {
          "base_uri": "https://localhost:8080/"
        },
        "id": "8I2CD126BtRe",
        "outputId": "57fb8a87-ed18-40e7-df5e-14e491b9effd"
      },
      "execution_count": 2,
      "outputs": [
        {
          "output_type": "stream",
          "name": "stdout",
          "text": [
            "Mounted at /content/drive\n"
          ]
        }
      ]
    },
    {
      "cell_type": "code",
      "source": [
        "# Read the CSV files \n",
        "path_review='/content/drive/MyDrive/ALMABETTER - DATA SCI/DATA OF PROGRAM/User Reviews.csv'\n",
        "path_data='/content/drive/MyDrive/ALMABETTER - DATA SCI/DATA OF PROGRAM/Play Store Data.csv'\n",
        "df1=pd.read_csv(path_review)\n",
        "df2=pd.read_csv(path_data)"
      ],
      "metadata": {
        "id": "Lsb5t790BwoJ"
      },
      "execution_count": 3,
      "outputs": []
    },
    {
      "cell_type": "markdown",
      "source": [
        "### First we will analyse and clean the first data set (User Review) and after that we'll analyse and clean the second data set(Play Store Data)."
      ],
      "metadata": {
        "id": "gzy587JrCoi9"
      }
    },
    {
      "cell_type": "markdown",
      "source": [
        "#User Review Data exploration"
      ],
      "metadata": {
        "id": "0EovXxrfCrrL"
      }
    },
    {
      "cell_type": "markdown",
      "source": [
        "User reviews dataset.csv: shape(64295,5)\n",
        " This file contain 5 features that is:\n",
        "\n",
        "i.\tApp: Its contain Apps Name.\n",
        "\n",
        "ii.\tTranslated Review: It contain reviews\n",
        "\n",
        "iii.\tSentiments: It contain Positive ,Negative, Neutral Sentiments.\n",
        "\n",
        "iv.\tSentiment Subjectivity:It contain Numeric values between negative to positive 1.\n",
        "\n",
        "v.\tSentiment Polarity: defines the orientation of the expressed sentiment \n"
      ],
      "metadata": {
        "id": "84qqjvt8D5dJ"
      }
    },
    {
      "cell_type": "code",
      "source": [
        "# Let's check the first few rows \n",
        "df1.head()"
      ],
      "metadata": {
        "colab": {
          "base_uri": "https://localhost:8080/",
          "height": 206
        },
        "id": "ODm8SoxfCv5L",
        "outputId": "0911b396-9777-4140-cc7a-dbc5f14e1baa"
      },
      "execution_count": 4,
      "outputs": [
        {
          "output_type": "execute_result",
          "data": {
            "text/plain": [
              "                     App                                  Translated_Review  \\\n",
              "0  10 Best Foods for You  I like eat delicious food. That's I'm cooking ...   \n",
              "1  10 Best Foods for You    This help eating healthy exercise regular basis   \n",
              "2  10 Best Foods for You                                                NaN   \n",
              "3  10 Best Foods for You         Works great especially going grocery store   \n",
              "4  10 Best Foods for You                                       Best idea us   \n",
              "\n",
              "  Sentiment  Sentiment_Polarity  Sentiment_Subjectivity  \n",
              "0  Positive                1.00                0.533333  \n",
              "1  Positive                0.25                0.288462  \n",
              "2       NaN                 NaN                     NaN  \n",
              "3  Positive                0.40                0.875000  \n",
              "4  Positive                1.00                0.300000  "
            ],
            "text/html": [
              "\n",
              "  <div id=\"df-74145e55-4b3e-4614-99c8-74e9f06b3eef\">\n",
              "    <div class=\"colab-df-container\">\n",
              "      <div>\n",
              "<style scoped>\n",
              "    .dataframe tbody tr th:only-of-type {\n",
              "        vertical-align: middle;\n",
              "    }\n",
              "\n",
              "    .dataframe tbody tr th {\n",
              "        vertical-align: top;\n",
              "    }\n",
              "\n",
              "    .dataframe thead th {\n",
              "        text-align: right;\n",
              "    }\n",
              "</style>\n",
              "<table border=\"1\" class=\"dataframe\">\n",
              "  <thead>\n",
              "    <tr style=\"text-align: right;\">\n",
              "      <th></th>\n",
              "      <th>App</th>\n",
              "      <th>Translated_Review</th>\n",
              "      <th>Sentiment</th>\n",
              "      <th>Sentiment_Polarity</th>\n",
              "      <th>Sentiment_Subjectivity</th>\n",
              "    </tr>\n",
              "  </thead>\n",
              "  <tbody>\n",
              "    <tr>\n",
              "      <th>0</th>\n",
              "      <td>10 Best Foods for You</td>\n",
              "      <td>I like eat delicious food. That's I'm cooking ...</td>\n",
              "      <td>Positive</td>\n",
              "      <td>1.00</td>\n",
              "      <td>0.533333</td>\n",
              "    </tr>\n",
              "    <tr>\n",
              "      <th>1</th>\n",
              "      <td>10 Best Foods for You</td>\n",
              "      <td>This help eating healthy exercise regular basis</td>\n",
              "      <td>Positive</td>\n",
              "      <td>0.25</td>\n",
              "      <td>0.288462</td>\n",
              "    </tr>\n",
              "    <tr>\n",
              "      <th>2</th>\n",
              "      <td>10 Best Foods for You</td>\n",
              "      <td>NaN</td>\n",
              "      <td>NaN</td>\n",
              "      <td>NaN</td>\n",
              "      <td>NaN</td>\n",
              "    </tr>\n",
              "    <tr>\n",
              "      <th>3</th>\n",
              "      <td>10 Best Foods for You</td>\n",
              "      <td>Works great especially going grocery store</td>\n",
              "      <td>Positive</td>\n",
              "      <td>0.40</td>\n",
              "      <td>0.875000</td>\n",
              "    </tr>\n",
              "    <tr>\n",
              "      <th>4</th>\n",
              "      <td>10 Best Foods for You</td>\n",
              "      <td>Best idea us</td>\n",
              "      <td>Positive</td>\n",
              "      <td>1.00</td>\n",
              "      <td>0.300000</td>\n",
              "    </tr>\n",
              "  </tbody>\n",
              "</table>\n",
              "</div>\n",
              "      <button class=\"colab-df-convert\" onclick=\"convertToInteractive('df-74145e55-4b3e-4614-99c8-74e9f06b3eef')\"\n",
              "              title=\"Convert this dataframe to an interactive table.\"\n",
              "              style=\"display:none;\">\n",
              "        \n",
              "  <svg xmlns=\"http://www.w3.org/2000/svg\" height=\"24px\"viewBox=\"0 0 24 24\"\n",
              "       width=\"24px\">\n",
              "    <path d=\"M0 0h24v24H0V0z\" fill=\"none\"/>\n",
              "    <path d=\"M18.56 5.44l.94 2.06.94-2.06 2.06-.94-2.06-.94-.94-2.06-.94 2.06-2.06.94zm-11 1L8.5 8.5l.94-2.06 2.06-.94-2.06-.94L8.5 2.5l-.94 2.06-2.06.94zm10 10l.94 2.06.94-2.06 2.06-.94-2.06-.94-.94-2.06-.94 2.06-2.06.94z\"/><path d=\"M17.41 7.96l-1.37-1.37c-.4-.4-.92-.59-1.43-.59-.52 0-1.04.2-1.43.59L10.3 9.45l-7.72 7.72c-.78.78-.78 2.05 0 2.83L4 21.41c.39.39.9.59 1.41.59.51 0 1.02-.2 1.41-.59l7.78-7.78 2.81-2.81c.8-.78.8-2.07 0-2.86zM5.41 20L4 18.59l7.72-7.72 1.47 1.35L5.41 20z\"/>\n",
              "  </svg>\n",
              "      </button>\n",
              "      \n",
              "  <style>\n",
              "    .colab-df-container {\n",
              "      display:flex;\n",
              "      flex-wrap:wrap;\n",
              "      gap: 12px;\n",
              "    }\n",
              "\n",
              "    .colab-df-convert {\n",
              "      background-color: #E8F0FE;\n",
              "      border: none;\n",
              "      border-radius: 50%;\n",
              "      cursor: pointer;\n",
              "      display: none;\n",
              "      fill: #1967D2;\n",
              "      height: 32px;\n",
              "      padding: 0 0 0 0;\n",
              "      width: 32px;\n",
              "    }\n",
              "\n",
              "    .colab-df-convert:hover {\n",
              "      background-color: #E2EBFA;\n",
              "      box-shadow: 0px 1px 2px rgba(60, 64, 67, 0.3), 0px 1px 3px 1px rgba(60, 64, 67, 0.15);\n",
              "      fill: #174EA6;\n",
              "    }\n",
              "\n",
              "    [theme=dark] .colab-df-convert {\n",
              "      background-color: #3B4455;\n",
              "      fill: #D2E3FC;\n",
              "    }\n",
              "\n",
              "    [theme=dark] .colab-df-convert:hover {\n",
              "      background-color: #434B5C;\n",
              "      box-shadow: 0px 1px 3px 1px rgba(0, 0, 0, 0.15);\n",
              "      filter: drop-shadow(0px 1px 2px rgba(0, 0, 0, 0.3));\n",
              "      fill: #FFFFFF;\n",
              "    }\n",
              "  </style>\n",
              "\n",
              "      <script>\n",
              "        const buttonEl =\n",
              "          document.querySelector('#df-74145e55-4b3e-4614-99c8-74e9f06b3eef button.colab-df-convert');\n",
              "        buttonEl.style.display =\n",
              "          google.colab.kernel.accessAllowed ? 'block' : 'none';\n",
              "\n",
              "        async function convertToInteractive(key) {\n",
              "          const element = document.querySelector('#df-74145e55-4b3e-4614-99c8-74e9f06b3eef');\n",
              "          const dataTable =\n",
              "            await google.colab.kernel.invokeFunction('convertToInteractive',\n",
              "                                                     [key], {});\n",
              "          if (!dataTable) return;\n",
              "\n",
              "          const docLinkHtml = 'Like what you see? Visit the ' +\n",
              "            '<a target=\"_blank\" href=https://colab.research.google.com/notebooks/data_table.ipynb>data table notebook</a>'\n",
              "            + ' to learn more about interactive tables.';\n",
              "          element.innerHTML = '';\n",
              "          dataTable['output_type'] = 'display_data';\n",
              "          await google.colab.output.renderOutput(dataTable, element);\n",
              "          const docLink = document.createElement('div');\n",
              "          docLink.innerHTML = docLinkHtml;\n",
              "          element.appendChild(docLink);\n",
              "        }\n",
              "      </script>\n",
              "    </div>\n",
              "  </div>\n",
              "  "
            ]
          },
          "metadata": {},
          "execution_count": 4
        }
      ]
    },
    {
      "cell_type": "code",
      "source": [
        "# Let's check the last few rows\n",
        "df1.tail()"
      ],
      "metadata": {
        "colab": {
          "base_uri": "https://localhost:8080/",
          "height": 206
        },
        "id": "9tORomQECx-b",
        "outputId": "35e4379b-36b4-4e58-bb69-26ae9d75e48f"
      },
      "execution_count": 5,
      "outputs": [
        {
          "output_type": "execute_result",
          "data": {
            "text/plain": [
              "                               App Translated_Review Sentiment  \\\n",
              "64290  Houzz Interior Design Ideas               NaN       NaN   \n",
              "64291  Houzz Interior Design Ideas               NaN       NaN   \n",
              "64292  Houzz Interior Design Ideas               NaN       NaN   \n",
              "64293  Houzz Interior Design Ideas               NaN       NaN   \n",
              "64294  Houzz Interior Design Ideas               NaN       NaN   \n",
              "\n",
              "       Sentiment_Polarity  Sentiment_Subjectivity  \n",
              "64290                 NaN                     NaN  \n",
              "64291                 NaN                     NaN  \n",
              "64292                 NaN                     NaN  \n",
              "64293                 NaN                     NaN  \n",
              "64294                 NaN                     NaN  "
            ],
            "text/html": [
              "\n",
              "  <div id=\"df-84212284-f440-493f-9707-b605ec7781b2\">\n",
              "    <div class=\"colab-df-container\">\n",
              "      <div>\n",
              "<style scoped>\n",
              "    .dataframe tbody tr th:only-of-type {\n",
              "        vertical-align: middle;\n",
              "    }\n",
              "\n",
              "    .dataframe tbody tr th {\n",
              "        vertical-align: top;\n",
              "    }\n",
              "\n",
              "    .dataframe thead th {\n",
              "        text-align: right;\n",
              "    }\n",
              "</style>\n",
              "<table border=\"1\" class=\"dataframe\">\n",
              "  <thead>\n",
              "    <tr style=\"text-align: right;\">\n",
              "      <th></th>\n",
              "      <th>App</th>\n",
              "      <th>Translated_Review</th>\n",
              "      <th>Sentiment</th>\n",
              "      <th>Sentiment_Polarity</th>\n",
              "      <th>Sentiment_Subjectivity</th>\n",
              "    </tr>\n",
              "  </thead>\n",
              "  <tbody>\n",
              "    <tr>\n",
              "      <th>64290</th>\n",
              "      <td>Houzz Interior Design Ideas</td>\n",
              "      <td>NaN</td>\n",
              "      <td>NaN</td>\n",
              "      <td>NaN</td>\n",
              "      <td>NaN</td>\n",
              "    </tr>\n",
              "    <tr>\n",
              "      <th>64291</th>\n",
              "      <td>Houzz Interior Design Ideas</td>\n",
              "      <td>NaN</td>\n",
              "      <td>NaN</td>\n",
              "      <td>NaN</td>\n",
              "      <td>NaN</td>\n",
              "    </tr>\n",
              "    <tr>\n",
              "      <th>64292</th>\n",
              "      <td>Houzz Interior Design Ideas</td>\n",
              "      <td>NaN</td>\n",
              "      <td>NaN</td>\n",
              "      <td>NaN</td>\n",
              "      <td>NaN</td>\n",
              "    </tr>\n",
              "    <tr>\n",
              "      <th>64293</th>\n",
              "      <td>Houzz Interior Design Ideas</td>\n",
              "      <td>NaN</td>\n",
              "      <td>NaN</td>\n",
              "      <td>NaN</td>\n",
              "      <td>NaN</td>\n",
              "    </tr>\n",
              "    <tr>\n",
              "      <th>64294</th>\n",
              "      <td>Houzz Interior Design Ideas</td>\n",
              "      <td>NaN</td>\n",
              "      <td>NaN</td>\n",
              "      <td>NaN</td>\n",
              "      <td>NaN</td>\n",
              "    </tr>\n",
              "  </tbody>\n",
              "</table>\n",
              "</div>\n",
              "      <button class=\"colab-df-convert\" onclick=\"convertToInteractive('df-84212284-f440-493f-9707-b605ec7781b2')\"\n",
              "              title=\"Convert this dataframe to an interactive table.\"\n",
              "              style=\"display:none;\">\n",
              "        \n",
              "  <svg xmlns=\"http://www.w3.org/2000/svg\" height=\"24px\"viewBox=\"0 0 24 24\"\n",
              "       width=\"24px\">\n",
              "    <path d=\"M0 0h24v24H0V0z\" fill=\"none\"/>\n",
              "    <path d=\"M18.56 5.44l.94 2.06.94-2.06 2.06-.94-2.06-.94-.94-2.06-.94 2.06-2.06.94zm-11 1L8.5 8.5l.94-2.06 2.06-.94-2.06-.94L8.5 2.5l-.94 2.06-2.06.94zm10 10l.94 2.06.94-2.06 2.06-.94-2.06-.94-.94-2.06-.94 2.06-2.06.94z\"/><path d=\"M17.41 7.96l-1.37-1.37c-.4-.4-.92-.59-1.43-.59-.52 0-1.04.2-1.43.59L10.3 9.45l-7.72 7.72c-.78.78-.78 2.05 0 2.83L4 21.41c.39.39.9.59 1.41.59.51 0 1.02-.2 1.41-.59l7.78-7.78 2.81-2.81c.8-.78.8-2.07 0-2.86zM5.41 20L4 18.59l7.72-7.72 1.47 1.35L5.41 20z\"/>\n",
              "  </svg>\n",
              "      </button>\n",
              "      \n",
              "  <style>\n",
              "    .colab-df-container {\n",
              "      display:flex;\n",
              "      flex-wrap:wrap;\n",
              "      gap: 12px;\n",
              "    }\n",
              "\n",
              "    .colab-df-convert {\n",
              "      background-color: #E8F0FE;\n",
              "      border: none;\n",
              "      border-radius: 50%;\n",
              "      cursor: pointer;\n",
              "      display: none;\n",
              "      fill: #1967D2;\n",
              "      height: 32px;\n",
              "      padding: 0 0 0 0;\n",
              "      width: 32px;\n",
              "    }\n",
              "\n",
              "    .colab-df-convert:hover {\n",
              "      background-color: #E2EBFA;\n",
              "      box-shadow: 0px 1px 2px rgba(60, 64, 67, 0.3), 0px 1px 3px 1px rgba(60, 64, 67, 0.15);\n",
              "      fill: #174EA6;\n",
              "    }\n",
              "\n",
              "    [theme=dark] .colab-df-convert {\n",
              "      background-color: #3B4455;\n",
              "      fill: #D2E3FC;\n",
              "    }\n",
              "\n",
              "    [theme=dark] .colab-df-convert:hover {\n",
              "      background-color: #434B5C;\n",
              "      box-shadow: 0px 1px 3px 1px rgba(0, 0, 0, 0.15);\n",
              "      filter: drop-shadow(0px 1px 2px rgba(0, 0, 0, 0.3));\n",
              "      fill: #FFFFFF;\n",
              "    }\n",
              "  </style>\n",
              "\n",
              "      <script>\n",
              "        const buttonEl =\n",
              "          document.querySelector('#df-84212284-f440-493f-9707-b605ec7781b2 button.colab-df-convert');\n",
              "        buttonEl.style.display =\n",
              "          google.colab.kernel.accessAllowed ? 'block' : 'none';\n",
              "\n",
              "        async function convertToInteractive(key) {\n",
              "          const element = document.querySelector('#df-84212284-f440-493f-9707-b605ec7781b2');\n",
              "          const dataTable =\n",
              "            await google.colab.kernel.invokeFunction('convertToInteractive',\n",
              "                                                     [key], {});\n",
              "          if (!dataTable) return;\n",
              "\n",
              "          const docLinkHtml = 'Like what you see? Visit the ' +\n",
              "            '<a target=\"_blank\" href=https://colab.research.google.com/notebooks/data_table.ipynb>data table notebook</a>'\n",
              "            + ' to learn more about interactive tables.';\n",
              "          element.innerHTML = '';\n",
              "          dataTable['output_type'] = 'display_data';\n",
              "          await google.colab.output.renderOutput(dataTable, element);\n",
              "          const docLink = document.createElement('div');\n",
              "          docLink.innerHTML = docLinkHtml;\n",
              "          element.appendChild(docLink);\n",
              "        }\n",
              "      </script>\n",
              "    </div>\n",
              "  </div>\n",
              "  "
            ]
          },
          "metadata": {},
          "execution_count": 5
        }
      ]
    },
    {
      "cell_type": "code",
      "source": [
        "# Checking the shape of the dataframe\n",
        "df1.shape"
      ],
      "metadata": {
        "colab": {
          "base_uri": "https://localhost:8080/"
        },
        "id": "QpmCBSoMC0IH",
        "outputId": "ee0a1160-13ea-4b84-dcba-3bd064281a7d"
      },
      "execution_count": 6,
      "outputs": [
        {
          "output_type": "execute_result",
          "data": {
            "text/plain": [
              "(64295, 5)"
            ]
          },
          "metadata": {},
          "execution_count": 6
        }
      ]
    },
    {
      "cell_type": "code",
      "source": [
        "# Getting the idea of the dataset to know about the non-null count of each column.\n",
        "df1.info()"
      ],
      "metadata": {
        "colab": {
          "base_uri": "https://localhost:8080/"
        },
        "id": "0NtROwEcC4oI",
        "outputId": "ce76afb6-7773-4a5e-db6b-afebd1f273b4"
      },
      "execution_count": 7,
      "outputs": [
        {
          "output_type": "stream",
          "name": "stdout",
          "text": [
            "<class 'pandas.core.frame.DataFrame'>\n",
            "RangeIndex: 64295 entries, 0 to 64294\n",
            "Data columns (total 5 columns):\n",
            " #   Column                  Non-Null Count  Dtype  \n",
            "---  ------                  --------------  -----  \n",
            " 0   App                     64295 non-null  object \n",
            " 1   Translated_Review       37427 non-null  object \n",
            " 2   Sentiment               37432 non-null  object \n",
            " 3   Sentiment_Polarity      37432 non-null  float64\n",
            " 4   Sentiment_Subjectivity  37432 non-null  float64\n",
            "dtypes: float64(2), object(3)\n",
            "memory usage: 2.5+ MB\n"
          ]
        }
      ]
    },
    {
      "cell_type": "code",
      "source": [
        "# Let's know the sum of null values in each column.\n",
        "df1.isna().sum()"
      ],
      "metadata": {
        "colab": {
          "base_uri": "https://localhost:8080/"
        },
        "id": "soLjtPqAC7Au",
        "outputId": "d4648175-c732-4972-d707-dc2fcb2ada6c"
      },
      "execution_count": 8,
      "outputs": [
        {
          "output_type": "execute_result",
          "data": {
            "text/plain": [
              "App                           0\n",
              "Translated_Review         26868\n",
              "Sentiment                 26863\n",
              "Sentiment_Polarity        26863\n",
              "Sentiment_Subjectivity    26863\n",
              "dtype: int64"
            ]
          },
          "metadata": {},
          "execution_count": 8
        }
      ]
    },
    {
      "cell_type": "markdown",
      "source": [
        "#Play Store App Data Exploration"
      ],
      "metadata": {
        "id": "T7cyOj0BC94j"
      }
    },
    {
      "cell_type": "markdown",
      "source": [
        "Play store dataset.csv: shape(10841,13)\n",
        "This file contain 13 features that is: \n",
        "\n",
        "i.\tApp: Name of Apps.\n",
        "\n",
        "ii.\tCategory:Category of Apps (ART_AND_DESIGN,FINANCE,COMIC,COMMUNICATION,GAME etc)\n",
        "\n",
        "iii.\tRating:Rating on app and it is between 0 to 5 \n",
        "\n",
        "iv.\tReviews:Total Users given reviews on every app\n",
        "\n",
        "v.\tSize:Size is in Megabytes(MB)\n",
        "\n",
        "vi.\tInstalls:Number of times the app was downloaded from google play\n",
        "\n",
        "vii.\tType:Type is Paid or Free\n",
        "\n",
        "viii.\tPrice:Price is in $\n",
        "\n",
        "ix.\tContent Rating:Which Age Group have Rated the App \n"
      ],
      "metadata": {
        "id": "uQgbzxpQDowb"
      }
    },
    {
      "cell_type": "code",
      "source": [
        "# Let's check the first few rows \n",
        "\n",
        "df2.head()"
      ],
      "metadata": {
        "colab": {
          "base_uri": "https://localhost:8080/",
          "height": 337
        },
        "id": "TMTyD_iAC_Zo",
        "outputId": "f80a8e46-abab-4fcc-818e-209cf635e469"
      },
      "execution_count": 9,
      "outputs": [
        {
          "output_type": "execute_result",
          "data": {
            "text/plain": [
              "                                                 App        Category  Rating  \\\n",
              "0     Photo Editor & Candy Camera & Grid & ScrapBook  ART_AND_DESIGN     4.1   \n",
              "1                                Coloring book moana  ART_AND_DESIGN     3.9   \n",
              "2  U Launcher Lite – FREE Live Cool Themes, Hide ...  ART_AND_DESIGN     4.7   \n",
              "3                              Sketch - Draw & Paint  ART_AND_DESIGN     4.5   \n",
              "4              Pixel Draw - Number Art Coloring Book  ART_AND_DESIGN     4.3   \n",
              "\n",
              "  Reviews  Size     Installs  Type Price Content Rating  \\\n",
              "0     159   19M      10,000+  Free     0       Everyone   \n",
              "1     967   14M     500,000+  Free     0       Everyone   \n",
              "2   87510  8.7M   5,000,000+  Free     0       Everyone   \n",
              "3  215644   25M  50,000,000+  Free     0           Teen   \n",
              "4     967  2.8M     100,000+  Free     0       Everyone   \n",
              "\n",
              "                      Genres      Last Updated         Current Ver  \\\n",
              "0               Art & Design   January 7, 2018               1.0.0   \n",
              "1  Art & Design;Pretend Play  January 15, 2018               2.0.0   \n",
              "2               Art & Design    August 1, 2018               1.2.4   \n",
              "3               Art & Design      June 8, 2018  Varies with device   \n",
              "4    Art & Design;Creativity     June 20, 2018                 1.1   \n",
              "\n",
              "    Android Ver  \n",
              "0  4.0.3 and up  \n",
              "1  4.0.3 and up  \n",
              "2  4.0.3 and up  \n",
              "3    4.2 and up  \n",
              "4    4.4 and up  "
            ],
            "text/html": [
              "\n",
              "  <div id=\"df-553626d0-d362-438b-a2ce-56cd22481f6b\">\n",
              "    <div class=\"colab-df-container\">\n",
              "      <div>\n",
              "<style scoped>\n",
              "    .dataframe tbody tr th:only-of-type {\n",
              "        vertical-align: middle;\n",
              "    }\n",
              "\n",
              "    .dataframe tbody tr th {\n",
              "        vertical-align: top;\n",
              "    }\n",
              "\n",
              "    .dataframe thead th {\n",
              "        text-align: right;\n",
              "    }\n",
              "</style>\n",
              "<table border=\"1\" class=\"dataframe\">\n",
              "  <thead>\n",
              "    <tr style=\"text-align: right;\">\n",
              "      <th></th>\n",
              "      <th>App</th>\n",
              "      <th>Category</th>\n",
              "      <th>Rating</th>\n",
              "      <th>Reviews</th>\n",
              "      <th>Size</th>\n",
              "      <th>Installs</th>\n",
              "      <th>Type</th>\n",
              "      <th>Price</th>\n",
              "      <th>Content Rating</th>\n",
              "      <th>Genres</th>\n",
              "      <th>Last Updated</th>\n",
              "      <th>Current Ver</th>\n",
              "      <th>Android Ver</th>\n",
              "    </tr>\n",
              "  </thead>\n",
              "  <tbody>\n",
              "    <tr>\n",
              "      <th>0</th>\n",
              "      <td>Photo Editor &amp; Candy Camera &amp; Grid &amp; ScrapBook</td>\n",
              "      <td>ART_AND_DESIGN</td>\n",
              "      <td>4.1</td>\n",
              "      <td>159</td>\n",
              "      <td>19M</td>\n",
              "      <td>10,000+</td>\n",
              "      <td>Free</td>\n",
              "      <td>0</td>\n",
              "      <td>Everyone</td>\n",
              "      <td>Art &amp; Design</td>\n",
              "      <td>January 7, 2018</td>\n",
              "      <td>1.0.0</td>\n",
              "      <td>4.0.3 and up</td>\n",
              "    </tr>\n",
              "    <tr>\n",
              "      <th>1</th>\n",
              "      <td>Coloring book moana</td>\n",
              "      <td>ART_AND_DESIGN</td>\n",
              "      <td>3.9</td>\n",
              "      <td>967</td>\n",
              "      <td>14M</td>\n",
              "      <td>500,000+</td>\n",
              "      <td>Free</td>\n",
              "      <td>0</td>\n",
              "      <td>Everyone</td>\n",
              "      <td>Art &amp; Design;Pretend Play</td>\n",
              "      <td>January 15, 2018</td>\n",
              "      <td>2.0.0</td>\n",
              "      <td>4.0.3 and up</td>\n",
              "    </tr>\n",
              "    <tr>\n",
              "      <th>2</th>\n",
              "      <td>U Launcher Lite – FREE Live Cool Themes, Hide ...</td>\n",
              "      <td>ART_AND_DESIGN</td>\n",
              "      <td>4.7</td>\n",
              "      <td>87510</td>\n",
              "      <td>8.7M</td>\n",
              "      <td>5,000,000+</td>\n",
              "      <td>Free</td>\n",
              "      <td>0</td>\n",
              "      <td>Everyone</td>\n",
              "      <td>Art &amp; Design</td>\n",
              "      <td>August 1, 2018</td>\n",
              "      <td>1.2.4</td>\n",
              "      <td>4.0.3 and up</td>\n",
              "    </tr>\n",
              "    <tr>\n",
              "      <th>3</th>\n",
              "      <td>Sketch - Draw &amp; Paint</td>\n",
              "      <td>ART_AND_DESIGN</td>\n",
              "      <td>4.5</td>\n",
              "      <td>215644</td>\n",
              "      <td>25M</td>\n",
              "      <td>50,000,000+</td>\n",
              "      <td>Free</td>\n",
              "      <td>0</td>\n",
              "      <td>Teen</td>\n",
              "      <td>Art &amp; Design</td>\n",
              "      <td>June 8, 2018</td>\n",
              "      <td>Varies with device</td>\n",
              "      <td>4.2 and up</td>\n",
              "    </tr>\n",
              "    <tr>\n",
              "      <th>4</th>\n",
              "      <td>Pixel Draw - Number Art Coloring Book</td>\n",
              "      <td>ART_AND_DESIGN</td>\n",
              "      <td>4.3</td>\n",
              "      <td>967</td>\n",
              "      <td>2.8M</td>\n",
              "      <td>100,000+</td>\n",
              "      <td>Free</td>\n",
              "      <td>0</td>\n",
              "      <td>Everyone</td>\n",
              "      <td>Art &amp; Design;Creativity</td>\n",
              "      <td>June 20, 2018</td>\n",
              "      <td>1.1</td>\n",
              "      <td>4.4 and up</td>\n",
              "    </tr>\n",
              "  </tbody>\n",
              "</table>\n",
              "</div>\n",
              "      <button class=\"colab-df-convert\" onclick=\"convertToInteractive('df-553626d0-d362-438b-a2ce-56cd22481f6b')\"\n",
              "              title=\"Convert this dataframe to an interactive table.\"\n",
              "              style=\"display:none;\">\n",
              "        \n",
              "  <svg xmlns=\"http://www.w3.org/2000/svg\" height=\"24px\"viewBox=\"0 0 24 24\"\n",
              "       width=\"24px\">\n",
              "    <path d=\"M0 0h24v24H0V0z\" fill=\"none\"/>\n",
              "    <path d=\"M18.56 5.44l.94 2.06.94-2.06 2.06-.94-2.06-.94-.94-2.06-.94 2.06-2.06.94zm-11 1L8.5 8.5l.94-2.06 2.06-.94-2.06-.94L8.5 2.5l-.94 2.06-2.06.94zm10 10l.94 2.06.94-2.06 2.06-.94-2.06-.94-.94-2.06-.94 2.06-2.06.94z\"/><path d=\"M17.41 7.96l-1.37-1.37c-.4-.4-.92-.59-1.43-.59-.52 0-1.04.2-1.43.59L10.3 9.45l-7.72 7.72c-.78.78-.78 2.05 0 2.83L4 21.41c.39.39.9.59 1.41.59.51 0 1.02-.2 1.41-.59l7.78-7.78 2.81-2.81c.8-.78.8-2.07 0-2.86zM5.41 20L4 18.59l7.72-7.72 1.47 1.35L5.41 20z\"/>\n",
              "  </svg>\n",
              "      </button>\n",
              "      \n",
              "  <style>\n",
              "    .colab-df-container {\n",
              "      display:flex;\n",
              "      flex-wrap:wrap;\n",
              "      gap: 12px;\n",
              "    }\n",
              "\n",
              "    .colab-df-convert {\n",
              "      background-color: #E8F0FE;\n",
              "      border: none;\n",
              "      border-radius: 50%;\n",
              "      cursor: pointer;\n",
              "      display: none;\n",
              "      fill: #1967D2;\n",
              "      height: 32px;\n",
              "      padding: 0 0 0 0;\n",
              "      width: 32px;\n",
              "    }\n",
              "\n",
              "    .colab-df-convert:hover {\n",
              "      background-color: #E2EBFA;\n",
              "      box-shadow: 0px 1px 2px rgba(60, 64, 67, 0.3), 0px 1px 3px 1px rgba(60, 64, 67, 0.15);\n",
              "      fill: #174EA6;\n",
              "    }\n",
              "\n",
              "    [theme=dark] .colab-df-convert {\n",
              "      background-color: #3B4455;\n",
              "      fill: #D2E3FC;\n",
              "    }\n",
              "\n",
              "    [theme=dark] .colab-df-convert:hover {\n",
              "      background-color: #434B5C;\n",
              "      box-shadow: 0px 1px 3px 1px rgba(0, 0, 0, 0.15);\n",
              "      filter: drop-shadow(0px 1px 2px rgba(0, 0, 0, 0.3));\n",
              "      fill: #FFFFFF;\n",
              "    }\n",
              "  </style>\n",
              "\n",
              "      <script>\n",
              "        const buttonEl =\n",
              "          document.querySelector('#df-553626d0-d362-438b-a2ce-56cd22481f6b button.colab-df-convert');\n",
              "        buttonEl.style.display =\n",
              "          google.colab.kernel.accessAllowed ? 'block' : 'none';\n",
              "\n",
              "        async function convertToInteractive(key) {\n",
              "          const element = document.querySelector('#df-553626d0-d362-438b-a2ce-56cd22481f6b');\n",
              "          const dataTable =\n",
              "            await google.colab.kernel.invokeFunction('convertToInteractive',\n",
              "                                                     [key], {});\n",
              "          if (!dataTable) return;\n",
              "\n",
              "          const docLinkHtml = 'Like what you see? Visit the ' +\n",
              "            '<a target=\"_blank\" href=https://colab.research.google.com/notebooks/data_table.ipynb>data table notebook</a>'\n",
              "            + ' to learn more about interactive tables.';\n",
              "          element.innerHTML = '';\n",
              "          dataTable['output_type'] = 'display_data';\n",
              "          await google.colab.output.renderOutput(dataTable, element);\n",
              "          const docLink = document.createElement('div');\n",
              "          docLink.innerHTML = docLinkHtml;\n",
              "          element.appendChild(docLink);\n",
              "        }\n",
              "      </script>\n",
              "    </div>\n",
              "  </div>\n",
              "  "
            ]
          },
          "metadata": {},
          "execution_count": 9
        }
      ]
    },
    {
      "cell_type": "code",
      "source": [
        "# Let's check the last few rows \n",
        "\n",
        "df2.tail()"
      ],
      "metadata": {
        "colab": {
          "base_uri": "https://localhost:8080/",
          "height": 319
        },
        "id": "icBgNLS1EGwF",
        "outputId": "2bd6f731-7e2f-45fb-ae55-57236a0c8024"
      },
      "execution_count": 10,
      "outputs": [
        {
          "output_type": "execute_result",
          "data": {
            "text/plain": [
              "                                                 App             Category  \\\n",
              "10836                               Sya9a Maroc - FR               FAMILY   \n",
              "10837               Fr. Mike Schmitz Audio Teachings               FAMILY   \n",
              "10838                         Parkinson Exercices FR              MEDICAL   \n",
              "10839                  The SCP Foundation DB fr nn5n  BOOKS_AND_REFERENCE   \n",
              "10840  iHoroscope - 2018 Daily Horoscope & Astrology            LIFESTYLE   \n",
              "\n",
              "       Rating Reviews                Size     Installs  Type Price  \\\n",
              "10836     4.5      38                 53M       5,000+  Free     0   \n",
              "10837     5.0       4                3.6M         100+  Free     0   \n",
              "10838     NaN       3                9.5M       1,000+  Free     0   \n",
              "10839     4.5     114  Varies with device       1,000+  Free     0   \n",
              "10840     4.5  398307                 19M  10,000,000+  Free     0   \n",
              "\n",
              "      Content Rating             Genres      Last Updated         Current Ver  \\\n",
              "10836       Everyone          Education     July 25, 2017                1.48   \n",
              "10837       Everyone          Education      July 6, 2018                 1.0   \n",
              "10838       Everyone            Medical  January 20, 2017                 1.0   \n",
              "10839     Mature 17+  Books & Reference  January 19, 2015  Varies with device   \n",
              "10840       Everyone          Lifestyle     July 25, 2018  Varies with device   \n",
              "\n",
              "              Android Ver  \n",
              "10836          4.1 and up  \n",
              "10837          4.1 and up  \n",
              "10838          2.2 and up  \n",
              "10839  Varies with device  \n",
              "10840  Varies with device  "
            ],
            "text/html": [
              "\n",
              "  <div id=\"df-74d9ce38-85a0-4b55-b983-470446db5396\">\n",
              "    <div class=\"colab-df-container\">\n",
              "      <div>\n",
              "<style scoped>\n",
              "    .dataframe tbody tr th:only-of-type {\n",
              "        vertical-align: middle;\n",
              "    }\n",
              "\n",
              "    .dataframe tbody tr th {\n",
              "        vertical-align: top;\n",
              "    }\n",
              "\n",
              "    .dataframe thead th {\n",
              "        text-align: right;\n",
              "    }\n",
              "</style>\n",
              "<table border=\"1\" class=\"dataframe\">\n",
              "  <thead>\n",
              "    <tr style=\"text-align: right;\">\n",
              "      <th></th>\n",
              "      <th>App</th>\n",
              "      <th>Category</th>\n",
              "      <th>Rating</th>\n",
              "      <th>Reviews</th>\n",
              "      <th>Size</th>\n",
              "      <th>Installs</th>\n",
              "      <th>Type</th>\n",
              "      <th>Price</th>\n",
              "      <th>Content Rating</th>\n",
              "      <th>Genres</th>\n",
              "      <th>Last Updated</th>\n",
              "      <th>Current Ver</th>\n",
              "      <th>Android Ver</th>\n",
              "    </tr>\n",
              "  </thead>\n",
              "  <tbody>\n",
              "    <tr>\n",
              "      <th>10836</th>\n",
              "      <td>Sya9a Maroc - FR</td>\n",
              "      <td>FAMILY</td>\n",
              "      <td>4.5</td>\n",
              "      <td>38</td>\n",
              "      <td>53M</td>\n",
              "      <td>5,000+</td>\n",
              "      <td>Free</td>\n",
              "      <td>0</td>\n",
              "      <td>Everyone</td>\n",
              "      <td>Education</td>\n",
              "      <td>July 25, 2017</td>\n",
              "      <td>1.48</td>\n",
              "      <td>4.1 and up</td>\n",
              "    </tr>\n",
              "    <tr>\n",
              "      <th>10837</th>\n",
              "      <td>Fr. Mike Schmitz Audio Teachings</td>\n",
              "      <td>FAMILY</td>\n",
              "      <td>5.0</td>\n",
              "      <td>4</td>\n",
              "      <td>3.6M</td>\n",
              "      <td>100+</td>\n",
              "      <td>Free</td>\n",
              "      <td>0</td>\n",
              "      <td>Everyone</td>\n",
              "      <td>Education</td>\n",
              "      <td>July 6, 2018</td>\n",
              "      <td>1.0</td>\n",
              "      <td>4.1 and up</td>\n",
              "    </tr>\n",
              "    <tr>\n",
              "      <th>10838</th>\n",
              "      <td>Parkinson Exercices FR</td>\n",
              "      <td>MEDICAL</td>\n",
              "      <td>NaN</td>\n",
              "      <td>3</td>\n",
              "      <td>9.5M</td>\n",
              "      <td>1,000+</td>\n",
              "      <td>Free</td>\n",
              "      <td>0</td>\n",
              "      <td>Everyone</td>\n",
              "      <td>Medical</td>\n",
              "      <td>January 20, 2017</td>\n",
              "      <td>1.0</td>\n",
              "      <td>2.2 and up</td>\n",
              "    </tr>\n",
              "    <tr>\n",
              "      <th>10839</th>\n",
              "      <td>The SCP Foundation DB fr nn5n</td>\n",
              "      <td>BOOKS_AND_REFERENCE</td>\n",
              "      <td>4.5</td>\n",
              "      <td>114</td>\n",
              "      <td>Varies with device</td>\n",
              "      <td>1,000+</td>\n",
              "      <td>Free</td>\n",
              "      <td>0</td>\n",
              "      <td>Mature 17+</td>\n",
              "      <td>Books &amp; Reference</td>\n",
              "      <td>January 19, 2015</td>\n",
              "      <td>Varies with device</td>\n",
              "      <td>Varies with device</td>\n",
              "    </tr>\n",
              "    <tr>\n",
              "      <th>10840</th>\n",
              "      <td>iHoroscope - 2018 Daily Horoscope &amp; Astrology</td>\n",
              "      <td>LIFESTYLE</td>\n",
              "      <td>4.5</td>\n",
              "      <td>398307</td>\n",
              "      <td>19M</td>\n",
              "      <td>10,000,000+</td>\n",
              "      <td>Free</td>\n",
              "      <td>0</td>\n",
              "      <td>Everyone</td>\n",
              "      <td>Lifestyle</td>\n",
              "      <td>July 25, 2018</td>\n",
              "      <td>Varies with device</td>\n",
              "      <td>Varies with device</td>\n",
              "    </tr>\n",
              "  </tbody>\n",
              "</table>\n",
              "</div>\n",
              "      <button class=\"colab-df-convert\" onclick=\"convertToInteractive('df-74d9ce38-85a0-4b55-b983-470446db5396')\"\n",
              "              title=\"Convert this dataframe to an interactive table.\"\n",
              "              style=\"display:none;\">\n",
              "        \n",
              "  <svg xmlns=\"http://www.w3.org/2000/svg\" height=\"24px\"viewBox=\"0 0 24 24\"\n",
              "       width=\"24px\">\n",
              "    <path d=\"M0 0h24v24H0V0z\" fill=\"none\"/>\n",
              "    <path d=\"M18.56 5.44l.94 2.06.94-2.06 2.06-.94-2.06-.94-.94-2.06-.94 2.06-2.06.94zm-11 1L8.5 8.5l.94-2.06 2.06-.94-2.06-.94L8.5 2.5l-.94 2.06-2.06.94zm10 10l.94 2.06.94-2.06 2.06-.94-2.06-.94-.94-2.06-.94 2.06-2.06.94z\"/><path d=\"M17.41 7.96l-1.37-1.37c-.4-.4-.92-.59-1.43-.59-.52 0-1.04.2-1.43.59L10.3 9.45l-7.72 7.72c-.78.78-.78 2.05 0 2.83L4 21.41c.39.39.9.59 1.41.59.51 0 1.02-.2 1.41-.59l7.78-7.78 2.81-2.81c.8-.78.8-2.07 0-2.86zM5.41 20L4 18.59l7.72-7.72 1.47 1.35L5.41 20z\"/>\n",
              "  </svg>\n",
              "      </button>\n",
              "      \n",
              "  <style>\n",
              "    .colab-df-container {\n",
              "      display:flex;\n",
              "      flex-wrap:wrap;\n",
              "      gap: 12px;\n",
              "    }\n",
              "\n",
              "    .colab-df-convert {\n",
              "      background-color: #E8F0FE;\n",
              "      border: none;\n",
              "      border-radius: 50%;\n",
              "      cursor: pointer;\n",
              "      display: none;\n",
              "      fill: #1967D2;\n",
              "      height: 32px;\n",
              "      padding: 0 0 0 0;\n",
              "      width: 32px;\n",
              "    }\n",
              "\n",
              "    .colab-df-convert:hover {\n",
              "      background-color: #E2EBFA;\n",
              "      box-shadow: 0px 1px 2px rgba(60, 64, 67, 0.3), 0px 1px 3px 1px rgba(60, 64, 67, 0.15);\n",
              "      fill: #174EA6;\n",
              "    }\n",
              "\n",
              "    [theme=dark] .colab-df-convert {\n",
              "      background-color: #3B4455;\n",
              "      fill: #D2E3FC;\n",
              "    }\n",
              "\n",
              "    [theme=dark] .colab-df-convert:hover {\n",
              "      background-color: #434B5C;\n",
              "      box-shadow: 0px 1px 3px 1px rgba(0, 0, 0, 0.15);\n",
              "      filter: drop-shadow(0px 1px 2px rgba(0, 0, 0, 0.3));\n",
              "      fill: #FFFFFF;\n",
              "    }\n",
              "  </style>\n",
              "\n",
              "      <script>\n",
              "        const buttonEl =\n",
              "          document.querySelector('#df-74d9ce38-85a0-4b55-b983-470446db5396 button.colab-df-convert');\n",
              "        buttonEl.style.display =\n",
              "          google.colab.kernel.accessAllowed ? 'block' : 'none';\n",
              "\n",
              "        async function convertToInteractive(key) {\n",
              "          const element = document.querySelector('#df-74d9ce38-85a0-4b55-b983-470446db5396');\n",
              "          const dataTable =\n",
              "            await google.colab.kernel.invokeFunction('convertToInteractive',\n",
              "                                                     [key], {});\n",
              "          if (!dataTable) return;\n",
              "\n",
              "          const docLinkHtml = 'Like what you see? Visit the ' +\n",
              "            '<a target=\"_blank\" href=https://colab.research.google.com/notebooks/data_table.ipynb>data table notebook</a>'\n",
              "            + ' to learn more about interactive tables.';\n",
              "          element.innerHTML = '';\n",
              "          dataTable['output_type'] = 'display_data';\n",
              "          await google.colab.output.renderOutput(dataTable, element);\n",
              "          const docLink = document.createElement('div');\n",
              "          docLink.innerHTML = docLinkHtml;\n",
              "          element.appendChild(docLink);\n",
              "        }\n",
              "      </script>\n",
              "    </div>\n",
              "  </div>\n",
              "  "
            ]
          },
          "metadata": {},
          "execution_count": 10
        }
      ]
    },
    {
      "cell_type": "code",
      "source": [
        "# Checking the shape of the dataframe\n",
        "\n",
        "df2.shape"
      ],
      "metadata": {
        "colab": {
          "base_uri": "https://localhost:8080/"
        },
        "id": "tmshyjhNEIDK",
        "outputId": "6e0f0be5-0b13-4b9e-8bec-dfb56a89922a"
      },
      "execution_count": 11,
      "outputs": [
        {
          "output_type": "execute_result",
          "data": {
            "text/plain": [
              "(10841, 13)"
            ]
          },
          "metadata": {},
          "execution_count": 11
        }
      ]
    },
    {
      "cell_type": "code",
      "source": [
        "# Getting the idea of the dataset to know about the non-null count of each column.\n",
        "\n",
        "df2.info()"
      ],
      "metadata": {
        "colab": {
          "base_uri": "https://localhost:8080/"
        },
        "id": "sOwN39QaEKGW",
        "outputId": "e5c88c25-e0cb-4b35-937b-fd8a4e29d036"
      },
      "execution_count": 12,
      "outputs": [
        {
          "output_type": "stream",
          "name": "stdout",
          "text": [
            "<class 'pandas.core.frame.DataFrame'>\n",
            "RangeIndex: 10841 entries, 0 to 10840\n",
            "Data columns (total 13 columns):\n",
            " #   Column          Non-Null Count  Dtype  \n",
            "---  ------          --------------  -----  \n",
            " 0   App             10841 non-null  object \n",
            " 1   Category        10841 non-null  object \n",
            " 2   Rating          9367 non-null   float64\n",
            " 3   Reviews         10841 non-null  object \n",
            " 4   Size            10841 non-null  object \n",
            " 5   Installs        10841 non-null  object \n",
            " 6   Type            10840 non-null  object \n",
            " 7   Price           10841 non-null  object \n",
            " 8   Content Rating  10840 non-null  object \n",
            " 9   Genres          10841 non-null  object \n",
            " 10  Last Updated    10841 non-null  object \n",
            " 11  Current Ver     10833 non-null  object \n",
            " 12  Android Ver     10838 non-null  object \n",
            "dtypes: float64(1), object(12)\n",
            "memory usage: 1.1+ MB\n"
          ]
        }
      ]
    },
    {
      "cell_type": "markdown",
      "source": [
        "#Data Cleaning For User Reviews dataset"
      ],
      "metadata": {
        "id": "-uxAxrxRE2O7"
      }
    },
    {
      "cell_type": "markdown",
      "source": [
        "# **Cleaning the data of playstore database**\n",
        "1) Finding carbage values from all the colums and drop the rows \n",
        "\n",
        "2) Drop the found carpage containing rows \n",
        "\n",
        "3) Coverting 'Size' column into valid numeric column \n",
        "\n",
        "4) Coverting 'Reviews' column into valid numeric column \n",
        "\n",
        "5) Coverting 'Installs' column into valid numeric column "
      ],
      "metadata": {
        "id": "tqcXP8F9E5oq"
      }
    },
    {
      "cell_type": "code",
      "source": [
        "# Let's know the sum of null values in each column.\n",
        "\n",
        "df1.isna().sum()"
      ],
      "metadata": {
        "colab": {
          "base_uri": "https://localhost:8080/"
        },
        "id": "WgT3BN_DE2_U",
        "outputId": "b871112d-ed8d-42e6-9bd6-2c47e8abf700"
      },
      "execution_count": 14,
      "outputs": [
        {
          "output_type": "execute_result",
          "data": {
            "text/plain": [
              "App                           0\n",
              "Translated_Review         26868\n",
              "Sentiment                 26863\n",
              "Sentiment_Polarity        26863\n",
              "Sentiment_Subjectivity    26863\n",
              "dtype: int64"
            ]
          },
          "metadata": {},
          "execution_count": 14
        }
      ]
    },
    {
      "cell_type": "code",
      "source": [
        "#drop the Null value \n",
        "\n",
        "index = df1[df1['Translated_Review'].isna()].index\n",
        "df1.drop(axis=0, inplace=True, index=index)"
      ],
      "metadata": {
        "id": "HbaI3OvCE8fP"
      },
      "execution_count": 15,
      "outputs": []
    },
    {
      "cell_type": "markdown",
      "source": [
        "Looking at Cleaned User Review Data"
      ],
      "metadata": {
        "id": "Ut9sKv3NFBTX"
      }
    },
    {
      "cell_type": "code",
      "source": [
        "# Let's check few sample rows \n",
        "\n",
        "df1.sample(5)"
      ],
      "metadata": {
        "colab": {
          "base_uri": "https://localhost:8080/",
          "height": 206
        },
        "id": "ZDq9KTfBE-_E",
        "outputId": "8f982ee6-bf54-43f3-caff-b2d834edbc81"
      },
      "execution_count": 16,
      "outputs": [
        {
          "output_type": "execute_result",
          "data": {
            "text/plain": [
              "                                                     App  \\\n",
              "42383                      FOX NOW - On Demand & Live TV   \n",
              "8195   Any.do: To-do list, Calendar, Reminders & Planner   \n",
              "41724                              Extreme Coupon Finder   \n",
              "54524                            Golf GPS by SwingxSwing   \n",
              "62341                     HipChat - Chat Built for Teams   \n",
              "\n",
              "                                       Translated_Review Sentiment  \\\n",
              "42383  I tried watch several movies everyone said pro...   Neutral   \n",
              "8195   This THE BEST market. I manage monthly appoint...  Positive   \n",
              "41724  Worthless. It's place grocery lists can't even...  Positive   \n",
              "54524  Don't love new UI. adding full score card take...  Positive   \n",
              "62341            Push notifications rarely work anymore.  Positive   \n",
              "\n",
              "       Sentiment_Polarity  Sentiment_Subjectivity  \n",
              "42383            0.000000                0.000000  \n",
              "8195             0.508333                0.476190  \n",
              "41724            0.016667                0.650000  \n",
              "54524            0.296591                0.451136  \n",
              "62341            0.300000                0.900000  "
            ],
            "text/html": [
              "\n",
              "  <div id=\"df-6d4d9e5d-5673-4521-a372-97211eb9ec62\">\n",
              "    <div class=\"colab-df-container\">\n",
              "      <div>\n",
              "<style scoped>\n",
              "    .dataframe tbody tr th:only-of-type {\n",
              "        vertical-align: middle;\n",
              "    }\n",
              "\n",
              "    .dataframe tbody tr th {\n",
              "        vertical-align: top;\n",
              "    }\n",
              "\n",
              "    .dataframe thead th {\n",
              "        text-align: right;\n",
              "    }\n",
              "</style>\n",
              "<table border=\"1\" class=\"dataframe\">\n",
              "  <thead>\n",
              "    <tr style=\"text-align: right;\">\n",
              "      <th></th>\n",
              "      <th>App</th>\n",
              "      <th>Translated_Review</th>\n",
              "      <th>Sentiment</th>\n",
              "      <th>Sentiment_Polarity</th>\n",
              "      <th>Sentiment_Subjectivity</th>\n",
              "    </tr>\n",
              "  </thead>\n",
              "  <tbody>\n",
              "    <tr>\n",
              "      <th>42383</th>\n",
              "      <td>FOX NOW - On Demand &amp; Live TV</td>\n",
              "      <td>I tried watch several movies everyone said pro...</td>\n",
              "      <td>Neutral</td>\n",
              "      <td>0.000000</td>\n",
              "      <td>0.000000</td>\n",
              "    </tr>\n",
              "    <tr>\n",
              "      <th>8195</th>\n",
              "      <td>Any.do: To-do list, Calendar, Reminders &amp; Planner</td>\n",
              "      <td>This THE BEST market. I manage monthly appoint...</td>\n",
              "      <td>Positive</td>\n",
              "      <td>0.508333</td>\n",
              "      <td>0.476190</td>\n",
              "    </tr>\n",
              "    <tr>\n",
              "      <th>41724</th>\n",
              "      <td>Extreme Coupon Finder</td>\n",
              "      <td>Worthless. It's place grocery lists can't even...</td>\n",
              "      <td>Positive</td>\n",
              "      <td>0.016667</td>\n",
              "      <td>0.650000</td>\n",
              "    </tr>\n",
              "    <tr>\n",
              "      <th>54524</th>\n",
              "      <td>Golf GPS by SwingxSwing</td>\n",
              "      <td>Don't love new UI. adding full score card take...</td>\n",
              "      <td>Positive</td>\n",
              "      <td>0.296591</td>\n",
              "      <td>0.451136</td>\n",
              "    </tr>\n",
              "    <tr>\n",
              "      <th>62341</th>\n",
              "      <td>HipChat - Chat Built for Teams</td>\n",
              "      <td>Push notifications rarely work anymore.</td>\n",
              "      <td>Positive</td>\n",
              "      <td>0.300000</td>\n",
              "      <td>0.900000</td>\n",
              "    </tr>\n",
              "  </tbody>\n",
              "</table>\n",
              "</div>\n",
              "      <button class=\"colab-df-convert\" onclick=\"convertToInteractive('df-6d4d9e5d-5673-4521-a372-97211eb9ec62')\"\n",
              "              title=\"Convert this dataframe to an interactive table.\"\n",
              "              style=\"display:none;\">\n",
              "        \n",
              "  <svg xmlns=\"http://www.w3.org/2000/svg\" height=\"24px\"viewBox=\"0 0 24 24\"\n",
              "       width=\"24px\">\n",
              "    <path d=\"M0 0h24v24H0V0z\" fill=\"none\"/>\n",
              "    <path d=\"M18.56 5.44l.94 2.06.94-2.06 2.06-.94-2.06-.94-.94-2.06-.94 2.06-2.06.94zm-11 1L8.5 8.5l.94-2.06 2.06-.94-2.06-.94L8.5 2.5l-.94 2.06-2.06.94zm10 10l.94 2.06.94-2.06 2.06-.94-2.06-.94-.94-2.06-.94 2.06-2.06.94z\"/><path d=\"M17.41 7.96l-1.37-1.37c-.4-.4-.92-.59-1.43-.59-.52 0-1.04.2-1.43.59L10.3 9.45l-7.72 7.72c-.78.78-.78 2.05 0 2.83L4 21.41c.39.39.9.59 1.41.59.51 0 1.02-.2 1.41-.59l7.78-7.78 2.81-2.81c.8-.78.8-2.07 0-2.86zM5.41 20L4 18.59l7.72-7.72 1.47 1.35L5.41 20z\"/>\n",
              "  </svg>\n",
              "      </button>\n",
              "      \n",
              "  <style>\n",
              "    .colab-df-container {\n",
              "      display:flex;\n",
              "      flex-wrap:wrap;\n",
              "      gap: 12px;\n",
              "    }\n",
              "\n",
              "    .colab-df-convert {\n",
              "      background-color: #E8F0FE;\n",
              "      border: none;\n",
              "      border-radius: 50%;\n",
              "      cursor: pointer;\n",
              "      display: none;\n",
              "      fill: #1967D2;\n",
              "      height: 32px;\n",
              "      padding: 0 0 0 0;\n",
              "      width: 32px;\n",
              "    }\n",
              "\n",
              "    .colab-df-convert:hover {\n",
              "      background-color: #E2EBFA;\n",
              "      box-shadow: 0px 1px 2px rgba(60, 64, 67, 0.3), 0px 1px 3px 1px rgba(60, 64, 67, 0.15);\n",
              "      fill: #174EA6;\n",
              "    }\n",
              "\n",
              "    [theme=dark] .colab-df-convert {\n",
              "      background-color: #3B4455;\n",
              "      fill: #D2E3FC;\n",
              "    }\n",
              "\n",
              "    [theme=dark] .colab-df-convert:hover {\n",
              "      background-color: #434B5C;\n",
              "      box-shadow: 0px 1px 3px 1px rgba(0, 0, 0, 0.15);\n",
              "      filter: drop-shadow(0px 1px 2px rgba(0, 0, 0, 0.3));\n",
              "      fill: #FFFFFF;\n",
              "    }\n",
              "  </style>\n",
              "\n",
              "      <script>\n",
              "        const buttonEl =\n",
              "          document.querySelector('#df-6d4d9e5d-5673-4521-a372-97211eb9ec62 button.colab-df-convert');\n",
              "        buttonEl.style.display =\n",
              "          google.colab.kernel.accessAllowed ? 'block' : 'none';\n",
              "\n",
              "        async function convertToInteractive(key) {\n",
              "          const element = document.querySelector('#df-6d4d9e5d-5673-4521-a372-97211eb9ec62');\n",
              "          const dataTable =\n",
              "            await google.colab.kernel.invokeFunction('convertToInteractive',\n",
              "                                                     [key], {});\n",
              "          if (!dataTable) return;\n",
              "\n",
              "          const docLinkHtml = 'Like what you see? Visit the ' +\n",
              "            '<a target=\"_blank\" href=https://colab.research.google.com/notebooks/data_table.ipynb>data table notebook</a>'\n",
              "            + ' to learn more about interactive tables.';\n",
              "          element.innerHTML = '';\n",
              "          dataTable['output_type'] = 'display_data';\n",
              "          await google.colab.output.renderOutput(dataTable, element);\n",
              "          const docLink = document.createElement('div');\n",
              "          docLink.innerHTML = docLinkHtml;\n",
              "          element.appendChild(docLink);\n",
              "        }\n",
              "      </script>\n",
              "    </div>\n",
              "  </div>\n",
              "  "
            ]
          },
          "metadata": {},
          "execution_count": 16
        }
      ]
    },
    {
      "cell_type": "code",
      "source": [
        "# let's get count of each setiment in dataset df1\n",
        "\n",
        "df1['Sentiment'].value_counts()"
      ],
      "metadata": {
        "colab": {
          "base_uri": "https://localhost:8080/"
        },
        "id": "Xp9HM2wtFJk2",
        "outputId": "c8779c26-e2e6-443f-872a-a3c277ed4d5d"
      },
      "execution_count": 17,
      "outputs": [
        {
          "output_type": "execute_result",
          "data": {
            "text/plain": [
              "Positive    23998\n",
              "Negative     8271\n",
              "Neutral      5158\n",
              "Name: Sentiment, dtype: int64"
            ]
          },
          "metadata": {},
          "execution_count": 17
        }
      ]
    },
    {
      "cell_type": "markdown",
      "source": [
        "#Data Cleaning for Play Store App dataset"
      ],
      "metadata": {
        "id": "XdCvblH9FN_w"
      }
    },
    {
      "cell_type": "code",
      "source": [
        "# let's get count of each category in dataset df2\n",
        "\n",
        "df2['Category'].value_counts()"
      ],
      "metadata": {
        "colab": {
          "base_uri": "https://localhost:8080/"
        },
        "id": "fGLZ3CgDFQau",
        "outputId": "98d4200c-3493-42df-f996-f87b513e8407"
      },
      "execution_count": 18,
      "outputs": [
        {
          "output_type": "execute_result",
          "data": {
            "text/plain": [
              "FAMILY                 1972\n",
              "GAME                   1144\n",
              "TOOLS                   843\n",
              "MEDICAL                 463\n",
              "BUSINESS                460\n",
              "PRODUCTIVITY            424\n",
              "PERSONALIZATION         392\n",
              "COMMUNICATION           387\n",
              "SPORTS                  384\n",
              "LIFESTYLE               382\n",
              "FINANCE                 366\n",
              "HEALTH_AND_FITNESS      341\n",
              "PHOTOGRAPHY             335\n",
              "SOCIAL                  295\n",
              "NEWS_AND_MAGAZINES      283\n",
              "SHOPPING                260\n",
              "TRAVEL_AND_LOCAL        258\n",
              "DATING                  234\n",
              "BOOKS_AND_REFERENCE     231\n",
              "VIDEO_PLAYERS           175\n",
              "EDUCATION               156\n",
              "ENTERTAINMENT           149\n",
              "MAPS_AND_NAVIGATION     137\n",
              "FOOD_AND_DRINK          127\n",
              "HOUSE_AND_HOME           88\n",
              "LIBRARIES_AND_DEMO       85\n",
              "AUTO_AND_VEHICLES        85\n",
              "WEATHER                  82\n",
              "ART_AND_DESIGN           65\n",
              "EVENTS                   64\n",
              "PARENTING                60\n",
              "COMICS                   60\n",
              "BEAUTY                   53\n",
              "1.9                       1\n",
              "Name: Category, dtype: int64"
            ]
          },
          "metadata": {},
          "execution_count": 18
        }
      ]
    },
    {
      "cell_type": "markdown",
      "source": [
        "The category 1.9 seems suspicious!!! "
      ],
      "metadata": {
        "id": "T3iHC-f4FThK"
      }
    },
    {
      "cell_type": "code",
      "source": [
        "#droping the row with 1.9 category\n",
        "index=df2[df2['Category']=='1.9'].index\n",
        "df2.drop(axis=0, inplace=True, index=index)"
      ],
      "metadata": {
        "id": "Vuw4VMuFFVzF"
      },
      "execution_count": 19,
      "outputs": []
    },
    {
      "cell_type": "code",
      "source": [
        "# Let's check few sample rows \n",
        "\n",
        "df2.sample(5)"
      ],
      "metadata": {
        "colab": {
          "base_uri": "https://localhost:8080/",
          "height": 206
        },
        "id": "UJkWx_eBFbJA",
        "outputId": "b532be23-aa96-4734-be02-4229808058f3"
      },
      "execution_count": 20,
      "outputs": [
        {
          "output_type": "execute_result",
          "data": {
            "text/plain": [
              "                            App           Category  Rating Reviews  \\\n",
              "4399               Guns'n'Glory             FAMILY     4.4   89947   \n",
              "2246               ASCCP Mobile            MEDICAL     4.5      63   \n",
              "5987          Outdoor Movies BC             EVENTS     2.9       7   \n",
              "4963  ONScripter Plus (Ad Free)               GAME     4.5     100   \n",
              "6226                 BH Patrole  AUTO_AND_VEHICLES     4.8      27   \n",
              "\n",
              "                    Size    Installs  Type  Price Content Rating  \\\n",
              "4399                 22M  5,000,000+  Free      0   Everyone 10+   \n",
              "2246                 25M     10,000+  Paid  $9.99       Everyone   \n",
              "5987  Varies with device        500+  Free      0       Everyone   \n",
              "4963                 17M      1,000+  Paid  $3.99       Everyone   \n",
              "6226                2.5M        500+  Free      0       Everyone   \n",
              "\n",
              "               Genres       Last Updated         Current Ver Android Ver  \n",
              "4399         Strategy   February 9, 2018               1.8.2  4.0 and up  \n",
              "2246          Medical    October 3, 2016               2.1.1  2.2 and up  \n",
              "5987           Events      June 22, 2018  Varies with device  4.4 and up  \n",
              "4963        Adventure      April 7, 2016               1.2.4  4.1 and up  \n",
              "6226  Auto & Vehicles  February 15, 2018                 2.0  4.4 and up  "
            ],
            "text/html": [
              "\n",
              "  <div id=\"df-b32df7a1-2929-4d6d-baae-d74fe5fb3c59\">\n",
              "    <div class=\"colab-df-container\">\n",
              "      <div>\n",
              "<style scoped>\n",
              "    .dataframe tbody tr th:only-of-type {\n",
              "        vertical-align: middle;\n",
              "    }\n",
              "\n",
              "    .dataframe tbody tr th {\n",
              "        vertical-align: top;\n",
              "    }\n",
              "\n",
              "    .dataframe thead th {\n",
              "        text-align: right;\n",
              "    }\n",
              "</style>\n",
              "<table border=\"1\" class=\"dataframe\">\n",
              "  <thead>\n",
              "    <tr style=\"text-align: right;\">\n",
              "      <th></th>\n",
              "      <th>App</th>\n",
              "      <th>Category</th>\n",
              "      <th>Rating</th>\n",
              "      <th>Reviews</th>\n",
              "      <th>Size</th>\n",
              "      <th>Installs</th>\n",
              "      <th>Type</th>\n",
              "      <th>Price</th>\n",
              "      <th>Content Rating</th>\n",
              "      <th>Genres</th>\n",
              "      <th>Last Updated</th>\n",
              "      <th>Current Ver</th>\n",
              "      <th>Android Ver</th>\n",
              "    </tr>\n",
              "  </thead>\n",
              "  <tbody>\n",
              "    <tr>\n",
              "      <th>4399</th>\n",
              "      <td>Guns'n'Glory</td>\n",
              "      <td>FAMILY</td>\n",
              "      <td>4.4</td>\n",
              "      <td>89947</td>\n",
              "      <td>22M</td>\n",
              "      <td>5,000,000+</td>\n",
              "      <td>Free</td>\n",
              "      <td>0</td>\n",
              "      <td>Everyone 10+</td>\n",
              "      <td>Strategy</td>\n",
              "      <td>February 9, 2018</td>\n",
              "      <td>1.8.2</td>\n",
              "      <td>4.0 and up</td>\n",
              "    </tr>\n",
              "    <tr>\n",
              "      <th>2246</th>\n",
              "      <td>ASCCP Mobile</td>\n",
              "      <td>MEDICAL</td>\n",
              "      <td>4.5</td>\n",
              "      <td>63</td>\n",
              "      <td>25M</td>\n",
              "      <td>10,000+</td>\n",
              "      <td>Paid</td>\n",
              "      <td>$9.99</td>\n",
              "      <td>Everyone</td>\n",
              "      <td>Medical</td>\n",
              "      <td>October 3, 2016</td>\n",
              "      <td>2.1.1</td>\n",
              "      <td>2.2 and up</td>\n",
              "    </tr>\n",
              "    <tr>\n",
              "      <th>5987</th>\n",
              "      <td>Outdoor Movies BC</td>\n",
              "      <td>EVENTS</td>\n",
              "      <td>2.9</td>\n",
              "      <td>7</td>\n",
              "      <td>Varies with device</td>\n",
              "      <td>500+</td>\n",
              "      <td>Free</td>\n",
              "      <td>0</td>\n",
              "      <td>Everyone</td>\n",
              "      <td>Events</td>\n",
              "      <td>June 22, 2018</td>\n",
              "      <td>Varies with device</td>\n",
              "      <td>4.4 and up</td>\n",
              "    </tr>\n",
              "    <tr>\n",
              "      <th>4963</th>\n",
              "      <td>ONScripter Plus (Ad Free)</td>\n",
              "      <td>GAME</td>\n",
              "      <td>4.5</td>\n",
              "      <td>100</td>\n",
              "      <td>17M</td>\n",
              "      <td>1,000+</td>\n",
              "      <td>Paid</td>\n",
              "      <td>$3.99</td>\n",
              "      <td>Everyone</td>\n",
              "      <td>Adventure</td>\n",
              "      <td>April 7, 2016</td>\n",
              "      <td>1.2.4</td>\n",
              "      <td>4.1 and up</td>\n",
              "    </tr>\n",
              "    <tr>\n",
              "      <th>6226</th>\n",
              "      <td>BH Patrole</td>\n",
              "      <td>AUTO_AND_VEHICLES</td>\n",
              "      <td>4.8</td>\n",
              "      <td>27</td>\n",
              "      <td>2.5M</td>\n",
              "      <td>500+</td>\n",
              "      <td>Free</td>\n",
              "      <td>0</td>\n",
              "      <td>Everyone</td>\n",
              "      <td>Auto &amp; Vehicles</td>\n",
              "      <td>February 15, 2018</td>\n",
              "      <td>2.0</td>\n",
              "      <td>4.4 and up</td>\n",
              "    </tr>\n",
              "  </tbody>\n",
              "</table>\n",
              "</div>\n",
              "      <button class=\"colab-df-convert\" onclick=\"convertToInteractive('df-b32df7a1-2929-4d6d-baae-d74fe5fb3c59')\"\n",
              "              title=\"Convert this dataframe to an interactive table.\"\n",
              "              style=\"display:none;\">\n",
              "        \n",
              "  <svg xmlns=\"http://www.w3.org/2000/svg\" height=\"24px\"viewBox=\"0 0 24 24\"\n",
              "       width=\"24px\">\n",
              "    <path d=\"M0 0h24v24H0V0z\" fill=\"none\"/>\n",
              "    <path d=\"M18.56 5.44l.94 2.06.94-2.06 2.06-.94-2.06-.94-.94-2.06-.94 2.06-2.06.94zm-11 1L8.5 8.5l.94-2.06 2.06-.94-2.06-.94L8.5 2.5l-.94 2.06-2.06.94zm10 10l.94 2.06.94-2.06 2.06-.94-2.06-.94-.94-2.06-.94 2.06-2.06.94z\"/><path d=\"M17.41 7.96l-1.37-1.37c-.4-.4-.92-.59-1.43-.59-.52 0-1.04.2-1.43.59L10.3 9.45l-7.72 7.72c-.78.78-.78 2.05 0 2.83L4 21.41c.39.39.9.59 1.41.59.51 0 1.02-.2 1.41-.59l7.78-7.78 2.81-2.81c.8-.78.8-2.07 0-2.86zM5.41 20L4 18.59l7.72-7.72 1.47 1.35L5.41 20z\"/>\n",
              "  </svg>\n",
              "      </button>\n",
              "      \n",
              "  <style>\n",
              "    .colab-df-container {\n",
              "      display:flex;\n",
              "      flex-wrap:wrap;\n",
              "      gap: 12px;\n",
              "    }\n",
              "\n",
              "    .colab-df-convert {\n",
              "      background-color: #E8F0FE;\n",
              "      border: none;\n",
              "      border-radius: 50%;\n",
              "      cursor: pointer;\n",
              "      display: none;\n",
              "      fill: #1967D2;\n",
              "      height: 32px;\n",
              "      padding: 0 0 0 0;\n",
              "      width: 32px;\n",
              "    }\n",
              "\n",
              "    .colab-df-convert:hover {\n",
              "      background-color: #E2EBFA;\n",
              "      box-shadow: 0px 1px 2px rgba(60, 64, 67, 0.3), 0px 1px 3px 1px rgba(60, 64, 67, 0.15);\n",
              "      fill: #174EA6;\n",
              "    }\n",
              "\n",
              "    [theme=dark] .colab-df-convert {\n",
              "      background-color: #3B4455;\n",
              "      fill: #D2E3FC;\n",
              "    }\n",
              "\n",
              "    [theme=dark] .colab-df-convert:hover {\n",
              "      background-color: #434B5C;\n",
              "      box-shadow: 0px 1px 3px 1px rgba(0, 0, 0, 0.15);\n",
              "      filter: drop-shadow(0px 1px 2px rgba(0, 0, 0, 0.3));\n",
              "      fill: #FFFFFF;\n",
              "    }\n",
              "  </style>\n",
              "\n",
              "      <script>\n",
              "        const buttonEl =\n",
              "          document.querySelector('#df-b32df7a1-2929-4d6d-baae-d74fe5fb3c59 button.colab-df-convert');\n",
              "        buttonEl.style.display =\n",
              "          google.colab.kernel.accessAllowed ? 'block' : 'none';\n",
              "\n",
              "        async function convertToInteractive(key) {\n",
              "          const element = document.querySelector('#df-b32df7a1-2929-4d6d-baae-d74fe5fb3c59');\n",
              "          const dataTable =\n",
              "            await google.colab.kernel.invokeFunction('convertToInteractive',\n",
              "                                                     [key], {});\n",
              "          if (!dataTable) return;\n",
              "\n",
              "          const docLinkHtml = 'Like what you see? Visit the ' +\n",
              "            '<a target=\"_blank\" href=https://colab.research.google.com/notebooks/data_table.ipynb>data table notebook</a>'\n",
              "            + ' to learn more about interactive tables.';\n",
              "          element.innerHTML = '';\n",
              "          dataTable['output_type'] = 'display_data';\n",
              "          await google.colab.output.renderOutput(dataTable, element);\n",
              "          const docLink = document.createElement('div');\n",
              "          docLink.innerHTML = docLinkHtml;\n",
              "          element.appendChild(docLink);\n",
              "        }\n",
              "      </script>\n",
              "    </div>\n",
              "  </div>\n",
              "  "
            ]
          },
          "metadata": {},
          "execution_count": 20
        }
      ]
    },
    {
      "cell_type": "markdown",
      "source": [
        "The sizes of the apps are in megabytes(M) and kilobytes(k). We will keep all the values of the column 'Size' in kilobyte."
      ],
      "metadata": {
        "id": "mHq2lyESFeI0"
      }
    },
    {
      "cell_type": "code",
      "source": [
        "# cleaning the dataset in column size with the hep of user define function\n",
        "\n",
        "def clean_size(size):\n",
        "  if size[-1]=='M':\n",
        "    new_size=float(size.replace('M',''))\n",
        "  elif size[-1]=='k':\n",
        "    new_size=size.replace('k','')\n",
        "    new_size=round(float(new_size)/1024,2)\n",
        "  else:\n",
        "    new_size=size\n",
        "  return (new_size)"
      ],
      "metadata": {
        "id": "jYRPUcjaFhfP"
      },
      "execution_count": 21,
      "outputs": []
    },
    {
      "cell_type": "code",
      "source": [
        "df2['Size'] = df2['Size'].apply(clean_size)"
      ],
      "metadata": {
        "id": "dRNaZeiSFkCn"
      },
      "execution_count": 22,
      "outputs": []
    },
    {
      "cell_type": "markdown",
      "source": [
        "We will remove + and , from the column 'Install' and will convert the datatype to float."
      ],
      "metadata": {
        "id": "1u9Y4MXlFnCU"
      }
    },
    {
      "cell_type": "code",
      "source": [
        "# cleaning the dataset in column installs with the hep of user define function\n",
        "\n",
        "def clean_install(num):\n",
        "  if '+' in num:\n",
        "    new_install=num.replace('+','')\n",
        "    if ','in new_install:\n",
        "      final_install=new_install.replace(',','')\n",
        "    else:\n",
        "      final_install=new_install\n",
        "  else:\n",
        "    final_install=num\n",
        "  return float(final_install)"
      ],
      "metadata": {
        "id": "mrjBDPiaFn5L"
      },
      "execution_count": 23,
      "outputs": []
    },
    {
      "cell_type": "code",
      "source": [
        "df2['Installs'] = df2['Installs'].apply(clean_install)"
      ],
      "metadata": {
        "id": "z9pTKtniFsiH"
      },
      "execution_count": 24,
      "outputs": []
    },
    {
      "cell_type": "markdown",
      "source": [
        "Though some apps are free, but those apps which are of type 'paid' have price in dollors($). "
      ],
      "metadata": {
        "id": "NFMezYwLFvWL"
      }
    },
    {
      "cell_type": "markdown",
      "source": [
        "We will be removing that '$' sign and convert the column into float datatype."
      ],
      "metadata": {
        "id": "M-VSSDwoFzK-"
      }
    },
    {
      "cell_type": "code",
      "source": [
        "# cleaning the dataset in column price with the hep of user define function\n",
        "\n",
        "def clean_price(num):\n",
        "  if num[0]=='$':\n",
        "    price=num.replace('$','')\n",
        "  else:\n",
        "    price=num\n",
        "  return float(price)"
      ],
      "metadata": {
        "id": "S_9peCGEF1Yf"
      },
      "execution_count": 25,
      "outputs": []
    },
    {
      "cell_type": "code",
      "source": [
        "df2['Price']=df2['Price'].apply(clean_price)"
      ],
      "metadata": {
        "id": "s3aVjQgPF3Ne"
      },
      "execution_count": 26,
      "outputs": []
    },
    {
      "cell_type": "code",
      "source": [
        "# cleaning the dataset in column Rating with the hep of user define function\n",
        "\n",
        "df2['Rating'] = df2['Rating'].astype(float)\n",
        "rating_median=df2['Rating'].median(skipna = True)\n",
        "df2['Rating']=df2['Rating'].fillna(rating_median)"
      ],
      "metadata": {
        "id": "FfnwK0z6F6Re"
      },
      "execution_count": 27,
      "outputs": []
    },
    {
      "cell_type": "code",
      "source": [
        "df2.isna().sum()"
      ],
      "metadata": {
        "colab": {
          "base_uri": "https://localhost:8080/"
        },
        "id": "5OBFZeIHF8qD",
        "outputId": "a8886457-ebbf-43c6-eef0-3b17aba17a0d"
      },
      "execution_count": 28,
      "outputs": [
        {
          "output_type": "execute_result",
          "data": {
            "text/plain": [
              "App               0\n",
              "Category          0\n",
              "Rating            0\n",
              "Reviews           0\n",
              "Size              0\n",
              "Installs          0\n",
              "Type              1\n",
              "Price             0\n",
              "Content Rating    0\n",
              "Genres            0\n",
              "Last Updated      0\n",
              "Current Ver       8\n",
              "Android Ver       2\n",
              "dtype: int64"
            ]
          },
          "metadata": {},
          "execution_count": 28
        }
      ]
    },
    {
      "cell_type": "code",
      "source": [
        "# cleaning the dataset in columns Android ver , Current ver and Genres\n",
        "\n",
        "index = df2[df2['Android Ver'].isna()].index\n",
        "df2.drop(axis=0, inplace=True, index=index)\n",
        "#\n",
        "index = df2[df2['Current Ver'].isna()].index\n",
        "df2.drop(axis=0, inplace=True, index=index)\n",
        "#\n",
        "index = df2[df2['Genres'].isna()].index\n",
        "df2.drop(axis=0,inplace= True, index=index)"
      ],
      "metadata": {
        "id": "eMjLnYinF_dm"
      },
      "execution_count": 29,
      "outputs": []
    },
    {
      "cell_type": "code",
      "source": [
        "df2.drop_duplicates(subset = 'App', inplace = True)"
      ],
      "metadata": {
        "id": "o-v8ChebGCFh"
      },
      "execution_count": 30,
      "outputs": []
    },
    {
      "cell_type": "code",
      "source": [
        "# here we changed Date format\n",
        "\n",
        "df2[\"Last Updated\"] = pd.to_datetime(df2['Last Updated'])"
      ],
      "metadata": {
        "id": "kCDKbf6-GEOW"
      },
      "execution_count": 31,
      "outputs": []
    },
    {
      "cell_type": "code",
      "source": [
        "def sliceversion(a):\n",
        "  if a =='Varies with device':\n",
        "    return a\n",
        "  else:\n",
        "    return ((a[:1])+\".0 and up\")"
      ],
      "metadata": {
        "id": "RN-Q25vzGGdv"
      },
      "execution_count": 32,
      "outputs": []
    },
    {
      "cell_type": "code",
      "source": [
        "df2['Android Ver']=df2[\"Android Ver\"].apply(sliceversion)"
      ],
      "metadata": {
        "id": "A72ksJLQGIlb"
      },
      "execution_count": 33,
      "outputs": []
    },
    {
      "cell_type": "code",
      "source": [
        "# Getting the idea of the dataset to know about the non-null count of each column.\n",
        "\n",
        "df2.info()"
      ],
      "metadata": {
        "colab": {
          "base_uri": "https://localhost:8080/"
        },
        "id": "-boI1INOGKn1",
        "outputId": "7083b18e-5d85-48f8-ae8a-8278b888bf24"
      },
      "execution_count": 34,
      "outputs": [
        {
          "output_type": "stream",
          "name": "stdout",
          "text": [
            "<class 'pandas.core.frame.DataFrame'>\n",
            "Int64Index: 9649 entries, 0 to 10840\n",
            "Data columns (total 13 columns):\n",
            " #   Column          Non-Null Count  Dtype         \n",
            "---  ------          --------------  -----         \n",
            " 0   App             9649 non-null   object        \n",
            " 1   Category        9649 non-null   object        \n",
            " 2   Rating          9649 non-null   float64       \n",
            " 3   Reviews         9649 non-null   object        \n",
            " 4   Size            9649 non-null   object        \n",
            " 5   Installs        9649 non-null   float64       \n",
            " 6   Type            9648 non-null   object        \n",
            " 7   Price           9649 non-null   float64       \n",
            " 8   Content Rating  9649 non-null   object        \n",
            " 9   Genres          9649 non-null   object        \n",
            " 10  Last Updated    9649 non-null   datetime64[ns]\n",
            " 11  Current Ver     9649 non-null   object        \n",
            " 12  Android Ver     9649 non-null   object        \n",
            "dtypes: datetime64[ns](1), float64(3), object(9)\n",
            "memory usage: 1.0+ MB\n"
          ]
        }
      ]
    },
    {
      "cell_type": "markdown",
      "source": [
        "Introducing Some New Columns in the Play Store App Data base"
      ],
      "metadata": {
        "id": "ze_XtPPEGNb7"
      }
    },
    {
      "cell_type": "code",
      "source": [
        "# create a new column with range of app size to analyze app size\n",
        "def size_apps(num):\n",
        "  if num=='Varies with device':\n",
        "    return '#Varies With Device'\n",
        "  elif num>=0 and num<1:\n",
        "    return '0-1'\n",
        "  elif num >= 1 and num <10:\n",
        "    return '1-10'\n",
        "  elif num >= 10 and num <20:\n",
        "    return '10-20'\n",
        "  elif num >= 20 and num <30:\n",
        "    return '20-30'\n",
        "  elif num >= 30 and num <40:\n",
        "    return '30-40'\n",
        "  elif num >= 40 and num <50:\n",
        "    return '40-50'\n",
        "  elif num >= 50 and num <60:\n",
        "    return '50-60'\n",
        "  elif num >= 60 and num <70:\n",
        "    return '60-70'\n",
        "  elif num >= 70 and num <80:\n",
        "    return '70-80'\n",
        "  elif num >= 80 and num <90:\n",
        "    return '80-90'\n",
        "  else:\n",
        "    return '90 and above'"
      ],
      "metadata": {
        "id": "TgrAiT83GONq"
      },
      "execution_count": 35,
      "outputs": []
    },
    {
      "cell_type": "code",
      "source": [
        "#using lambda function for size_apps\n",
        "df2['size_range']=df2['Size'].apply(lambda x : size_apps(x))"
      ],
      "metadata": {
        "id": "vlL7U5YCGSZA"
      },
      "execution_count": 36,
      "outputs": []
    },
    {
      "cell_type": "code",
      "source": [
        "#Using Lambda function to set month and year\n",
        "df2[\"month\"] =df2[\"Last Updated\"].apply(lambda x: x.strftime('%m')).astype(int) \n",
        "df2[\"year\"] =df2[\"Last Updated\"].apply(lambda x: x.strftime('%Y')).astype(int) "
      ],
      "metadata": {
        "id": "fj6LqhJYGUny"
      },
      "execution_count": 37,
      "outputs": []
    },
    {
      "cell_type": "code",
      "source": [
        "#making revenue column by Multiplying Installs and Price\n",
        "df2['Revenue']=df2['Installs']*df2['Price']"
      ],
      "metadata": {
        "id": "DoH8XdZ3GWx8"
      },
      "execution_count": 38,
      "outputs": []
    },
    {
      "cell_type": "code",
      "source": [
        "#looking at clean and updated database\n",
        "df2.sample(5)"
      ],
      "metadata": {
        "colab": {
          "base_uri": "https://localhost:8080/",
          "height": 319
        },
        "id": "TC40oNiZGZge",
        "outputId": "d4c9705c-06c5-4bd1-ddfc-d5361a1bb23c"
      },
      "execution_count": 39,
      "outputs": [
        {
          "output_type": "execute_result",
          "data": {
            "text/plain": [
              "                                      App      Category  Rating Reviews  Size  \\\n",
              "7893        Abdominal CT Sectional Walker       MEDICAL     4.3       2  23.0   \n",
              "7636                    Co-op Connections      SHOPPING     1.6       8  18.0   \n",
              "8060                              Cx Wize  PRODUCTIVITY     4.3       3  24.0   \n",
              "129   Secrets of beauty, youth and health        BEAUTY     4.3      77   2.9   \n",
              "9687      Masha and the Bear: Good Night!        FAMILY     4.6   29155  83.0   \n",
              "\n",
              "       Installs  Type  Price Content Rating                    Genres  \\\n",
              "7893      100.0  Paid   9.99       Everyone                   Medical   \n",
              "7636     1000.0  Free   0.00       Everyone                  Shopping   \n",
              "8060      100.0  Free   0.00       Everyone              Productivity   \n",
              "129     10000.0  Free   0.00     Mature 17+                    Beauty   \n",
              "9687  1000000.0  Free   0.00       Everyone  Educational;Pretend Play   \n",
              "\n",
              "     Last Updated Current Ver Android Ver size_range  month  year  Revenue  \n",
              "7893   2016-07-08         1.1  4.0 and up      20-30      7  2016    999.0  \n",
              "7636   2018-05-03         1.5  4.0 and up      10-20      5  2018      0.0  \n",
              "8060   2018-07-30       2.1.0  4.0 and up      20-30      7  2018      0.0  \n",
              "129    2017-08-08         2.0  2.0 and up       1-10      8  2017      0.0  \n",
              "9687   2018-07-26       1.0.4  4.0 and up      80-90      7  2018      0.0  "
            ],
            "text/html": [
              "\n",
              "  <div id=\"df-a11146fa-6bdd-4a4e-ab4b-3a5a15a6b2a5\">\n",
              "    <div class=\"colab-df-container\">\n",
              "      <div>\n",
              "<style scoped>\n",
              "    .dataframe tbody tr th:only-of-type {\n",
              "        vertical-align: middle;\n",
              "    }\n",
              "\n",
              "    .dataframe tbody tr th {\n",
              "        vertical-align: top;\n",
              "    }\n",
              "\n",
              "    .dataframe thead th {\n",
              "        text-align: right;\n",
              "    }\n",
              "</style>\n",
              "<table border=\"1\" class=\"dataframe\">\n",
              "  <thead>\n",
              "    <tr style=\"text-align: right;\">\n",
              "      <th></th>\n",
              "      <th>App</th>\n",
              "      <th>Category</th>\n",
              "      <th>Rating</th>\n",
              "      <th>Reviews</th>\n",
              "      <th>Size</th>\n",
              "      <th>Installs</th>\n",
              "      <th>Type</th>\n",
              "      <th>Price</th>\n",
              "      <th>Content Rating</th>\n",
              "      <th>Genres</th>\n",
              "      <th>Last Updated</th>\n",
              "      <th>Current Ver</th>\n",
              "      <th>Android Ver</th>\n",
              "      <th>size_range</th>\n",
              "      <th>month</th>\n",
              "      <th>year</th>\n",
              "      <th>Revenue</th>\n",
              "    </tr>\n",
              "  </thead>\n",
              "  <tbody>\n",
              "    <tr>\n",
              "      <th>7893</th>\n",
              "      <td>Abdominal CT Sectional Walker</td>\n",
              "      <td>MEDICAL</td>\n",
              "      <td>4.3</td>\n",
              "      <td>2</td>\n",
              "      <td>23.0</td>\n",
              "      <td>100.0</td>\n",
              "      <td>Paid</td>\n",
              "      <td>9.99</td>\n",
              "      <td>Everyone</td>\n",
              "      <td>Medical</td>\n",
              "      <td>2016-07-08</td>\n",
              "      <td>1.1</td>\n",
              "      <td>4.0 and up</td>\n",
              "      <td>20-30</td>\n",
              "      <td>7</td>\n",
              "      <td>2016</td>\n",
              "      <td>999.0</td>\n",
              "    </tr>\n",
              "    <tr>\n",
              "      <th>7636</th>\n",
              "      <td>Co-op Connections</td>\n",
              "      <td>SHOPPING</td>\n",
              "      <td>1.6</td>\n",
              "      <td>8</td>\n",
              "      <td>18.0</td>\n",
              "      <td>1000.0</td>\n",
              "      <td>Free</td>\n",
              "      <td>0.00</td>\n",
              "      <td>Everyone</td>\n",
              "      <td>Shopping</td>\n",
              "      <td>2018-05-03</td>\n",
              "      <td>1.5</td>\n",
              "      <td>4.0 and up</td>\n",
              "      <td>10-20</td>\n",
              "      <td>5</td>\n",
              "      <td>2018</td>\n",
              "      <td>0.0</td>\n",
              "    </tr>\n",
              "    <tr>\n",
              "      <th>8060</th>\n",
              "      <td>Cx Wize</td>\n",
              "      <td>PRODUCTIVITY</td>\n",
              "      <td>4.3</td>\n",
              "      <td>3</td>\n",
              "      <td>24.0</td>\n",
              "      <td>100.0</td>\n",
              "      <td>Free</td>\n",
              "      <td>0.00</td>\n",
              "      <td>Everyone</td>\n",
              "      <td>Productivity</td>\n",
              "      <td>2018-07-30</td>\n",
              "      <td>2.1.0</td>\n",
              "      <td>4.0 and up</td>\n",
              "      <td>20-30</td>\n",
              "      <td>7</td>\n",
              "      <td>2018</td>\n",
              "      <td>0.0</td>\n",
              "    </tr>\n",
              "    <tr>\n",
              "      <th>129</th>\n",
              "      <td>Secrets of beauty, youth and health</td>\n",
              "      <td>BEAUTY</td>\n",
              "      <td>4.3</td>\n",
              "      <td>77</td>\n",
              "      <td>2.9</td>\n",
              "      <td>10000.0</td>\n",
              "      <td>Free</td>\n",
              "      <td>0.00</td>\n",
              "      <td>Mature 17+</td>\n",
              "      <td>Beauty</td>\n",
              "      <td>2017-08-08</td>\n",
              "      <td>2.0</td>\n",
              "      <td>2.0 and up</td>\n",
              "      <td>1-10</td>\n",
              "      <td>8</td>\n",
              "      <td>2017</td>\n",
              "      <td>0.0</td>\n",
              "    </tr>\n",
              "    <tr>\n",
              "      <th>9687</th>\n",
              "      <td>Masha and the Bear: Good Night!</td>\n",
              "      <td>FAMILY</td>\n",
              "      <td>4.6</td>\n",
              "      <td>29155</td>\n",
              "      <td>83.0</td>\n",
              "      <td>1000000.0</td>\n",
              "      <td>Free</td>\n",
              "      <td>0.00</td>\n",
              "      <td>Everyone</td>\n",
              "      <td>Educational;Pretend Play</td>\n",
              "      <td>2018-07-26</td>\n",
              "      <td>1.0.4</td>\n",
              "      <td>4.0 and up</td>\n",
              "      <td>80-90</td>\n",
              "      <td>7</td>\n",
              "      <td>2018</td>\n",
              "      <td>0.0</td>\n",
              "    </tr>\n",
              "  </tbody>\n",
              "</table>\n",
              "</div>\n",
              "      <button class=\"colab-df-convert\" onclick=\"convertToInteractive('df-a11146fa-6bdd-4a4e-ab4b-3a5a15a6b2a5')\"\n",
              "              title=\"Convert this dataframe to an interactive table.\"\n",
              "              style=\"display:none;\">\n",
              "        \n",
              "  <svg xmlns=\"http://www.w3.org/2000/svg\" height=\"24px\"viewBox=\"0 0 24 24\"\n",
              "       width=\"24px\">\n",
              "    <path d=\"M0 0h24v24H0V0z\" fill=\"none\"/>\n",
              "    <path d=\"M18.56 5.44l.94 2.06.94-2.06 2.06-.94-2.06-.94-.94-2.06-.94 2.06-2.06.94zm-11 1L8.5 8.5l.94-2.06 2.06-.94-2.06-.94L8.5 2.5l-.94 2.06-2.06.94zm10 10l.94 2.06.94-2.06 2.06-.94-2.06-.94-.94-2.06-.94 2.06-2.06.94z\"/><path d=\"M17.41 7.96l-1.37-1.37c-.4-.4-.92-.59-1.43-.59-.52 0-1.04.2-1.43.59L10.3 9.45l-7.72 7.72c-.78.78-.78 2.05 0 2.83L4 21.41c.39.39.9.59 1.41.59.51 0 1.02-.2 1.41-.59l7.78-7.78 2.81-2.81c.8-.78.8-2.07 0-2.86zM5.41 20L4 18.59l7.72-7.72 1.47 1.35L5.41 20z\"/>\n",
              "  </svg>\n",
              "      </button>\n",
              "      \n",
              "  <style>\n",
              "    .colab-df-container {\n",
              "      display:flex;\n",
              "      flex-wrap:wrap;\n",
              "      gap: 12px;\n",
              "    }\n",
              "\n",
              "    .colab-df-convert {\n",
              "      background-color: #E8F0FE;\n",
              "      border: none;\n",
              "      border-radius: 50%;\n",
              "      cursor: pointer;\n",
              "      display: none;\n",
              "      fill: #1967D2;\n",
              "      height: 32px;\n",
              "      padding: 0 0 0 0;\n",
              "      width: 32px;\n",
              "    }\n",
              "\n",
              "    .colab-df-convert:hover {\n",
              "      background-color: #E2EBFA;\n",
              "      box-shadow: 0px 1px 2px rgba(60, 64, 67, 0.3), 0px 1px 3px 1px rgba(60, 64, 67, 0.15);\n",
              "      fill: #174EA6;\n",
              "    }\n",
              "\n",
              "    [theme=dark] .colab-df-convert {\n",
              "      background-color: #3B4455;\n",
              "      fill: #D2E3FC;\n",
              "    }\n",
              "\n",
              "    [theme=dark] .colab-df-convert:hover {\n",
              "      background-color: #434B5C;\n",
              "      box-shadow: 0px 1px 3px 1px rgba(0, 0, 0, 0.15);\n",
              "      filter: drop-shadow(0px 1px 2px rgba(0, 0, 0, 0.3));\n",
              "      fill: #FFFFFF;\n",
              "    }\n",
              "  </style>\n",
              "\n",
              "      <script>\n",
              "        const buttonEl =\n",
              "          document.querySelector('#df-a11146fa-6bdd-4a4e-ab4b-3a5a15a6b2a5 button.colab-df-convert');\n",
              "        buttonEl.style.display =\n",
              "          google.colab.kernel.accessAllowed ? 'block' : 'none';\n",
              "\n",
              "        async function convertToInteractive(key) {\n",
              "          const element = document.querySelector('#df-a11146fa-6bdd-4a4e-ab4b-3a5a15a6b2a5');\n",
              "          const dataTable =\n",
              "            await google.colab.kernel.invokeFunction('convertToInteractive',\n",
              "                                                     [key], {});\n",
              "          if (!dataTable) return;\n",
              "\n",
              "          const docLinkHtml = 'Like what you see? Visit the ' +\n",
              "            '<a target=\"_blank\" href=https://colab.research.google.com/notebooks/data_table.ipynb>data table notebook</a>'\n",
              "            + ' to learn more about interactive tables.';\n",
              "          element.innerHTML = '';\n",
              "          dataTable['output_type'] = 'display_data';\n",
              "          await google.colab.output.renderOutput(dataTable, element);\n",
              "          const docLink = document.createElement('div');\n",
              "          docLink.innerHTML = docLinkHtml;\n",
              "          element.appendChild(docLink);\n",
              "        }\n",
              "      </script>\n",
              "    </div>\n",
              "  </div>\n",
              "  "
            ]
          },
          "metadata": {},
          "execution_count": 39
        }
      ]
    },
    {
      "cell_type": "markdown",
      "source": [
        "### We have cleaned both the data set. Now we are ready to visualise them. "
      ],
      "metadata": {
        "id": "EYF_N6yeGcMq"
      }
    },
    {
      "cell_type": "markdown",
      "source": [
        "#DATA VISUALISATION USER REVIEW"
      ],
      "metadata": {
        "id": "L5Nbct6rGeoN"
      }
    },
    {
      "cell_type": "code",
      "source": [
        "review_df=df1"
      ],
      "metadata": {
        "id": "M2bjxzDpGhLT"
      },
      "execution_count": 40,
      "outputs": []
    },
    {
      "cell_type": "code",
      "source": [
        "# Merging app_df and review_df\n",
        "merge_df=pd.merge(df2,review_df,on='App',how='inner')\n",
        "merge_df.head()   # Checking the first few rows of the dataframe"
      ],
      "metadata": {
        "colab": {
          "base_uri": "https://localhost:8080/",
          "height": 490
        },
        "id": "kGuXj5eEGjyR",
        "outputId": "02b840c4-0ce7-40b9-aae7-f79111c888bb"
      },
      "execution_count": 41,
      "outputs": [
        {
          "output_type": "execute_result",
          "data": {
            "text/plain": [
              "                   App        Category  Rating Reviews  Size  Installs  Type  \\\n",
              "0  Coloring book moana  ART_AND_DESIGN     3.9     967  14.0  500000.0  Free   \n",
              "1  Coloring book moana  ART_AND_DESIGN     3.9     967  14.0  500000.0  Free   \n",
              "2  Coloring book moana  ART_AND_DESIGN     3.9     967  14.0  500000.0  Free   \n",
              "3  Coloring book moana  ART_AND_DESIGN     3.9     967  14.0  500000.0  Free   \n",
              "4  Coloring book moana  ART_AND_DESIGN     3.9     967  14.0  500000.0  Free   \n",
              "\n",
              "   Price Content Rating                     Genres  ... Current Ver  \\\n",
              "0    0.0       Everyone  Art & Design;Pretend Play  ...       2.0.0   \n",
              "1    0.0       Everyone  Art & Design;Pretend Play  ...       2.0.0   \n",
              "2    0.0       Everyone  Art & Design;Pretend Play  ...       2.0.0   \n",
              "3    0.0       Everyone  Art & Design;Pretend Play  ...       2.0.0   \n",
              "4    0.0       Everyone  Art & Design;Pretend Play  ...       2.0.0   \n",
              "\n",
              "  Android Ver size_range month  year  Revenue  \\\n",
              "0  4.0 and up      10-20     1  2018      0.0   \n",
              "1  4.0 and up      10-20     1  2018      0.0   \n",
              "2  4.0 and up      10-20     1  2018      0.0   \n",
              "3  4.0 and up      10-20     1  2018      0.0   \n",
              "4  4.0 and up      10-20     1  2018      0.0   \n",
              "\n",
              "                                   Translated_Review Sentiment  \\\n",
              "0  A kid's excessive ads. The types ads allowed a...  Negative   \n",
              "1                                         It bad >:(  Negative   \n",
              "2                                               like   Neutral   \n",
              "3                           I love colors inspyering  Positive   \n",
              "4                                             I hate  Negative   \n",
              "\n",
              "  Sentiment_Polarity  Sentiment_Subjectivity  \n",
              "0             -0.250                1.000000  \n",
              "1             -0.725                0.833333  \n",
              "2              0.000                0.000000  \n",
              "3              0.500                0.600000  \n",
              "4             -0.800                0.900000  \n",
              "\n",
              "[5 rows x 21 columns]"
            ],
            "text/html": [
              "\n",
              "  <div id=\"df-979ec7fb-2694-46ed-ab53-cd2b0cd69ecc\">\n",
              "    <div class=\"colab-df-container\">\n",
              "      <div>\n",
              "<style scoped>\n",
              "    .dataframe tbody tr th:only-of-type {\n",
              "        vertical-align: middle;\n",
              "    }\n",
              "\n",
              "    .dataframe tbody tr th {\n",
              "        vertical-align: top;\n",
              "    }\n",
              "\n",
              "    .dataframe thead th {\n",
              "        text-align: right;\n",
              "    }\n",
              "</style>\n",
              "<table border=\"1\" class=\"dataframe\">\n",
              "  <thead>\n",
              "    <tr style=\"text-align: right;\">\n",
              "      <th></th>\n",
              "      <th>App</th>\n",
              "      <th>Category</th>\n",
              "      <th>Rating</th>\n",
              "      <th>Reviews</th>\n",
              "      <th>Size</th>\n",
              "      <th>Installs</th>\n",
              "      <th>Type</th>\n",
              "      <th>Price</th>\n",
              "      <th>Content Rating</th>\n",
              "      <th>Genres</th>\n",
              "      <th>...</th>\n",
              "      <th>Current Ver</th>\n",
              "      <th>Android Ver</th>\n",
              "      <th>size_range</th>\n",
              "      <th>month</th>\n",
              "      <th>year</th>\n",
              "      <th>Revenue</th>\n",
              "      <th>Translated_Review</th>\n",
              "      <th>Sentiment</th>\n",
              "      <th>Sentiment_Polarity</th>\n",
              "      <th>Sentiment_Subjectivity</th>\n",
              "    </tr>\n",
              "  </thead>\n",
              "  <tbody>\n",
              "    <tr>\n",
              "      <th>0</th>\n",
              "      <td>Coloring book moana</td>\n",
              "      <td>ART_AND_DESIGN</td>\n",
              "      <td>3.9</td>\n",
              "      <td>967</td>\n",
              "      <td>14.0</td>\n",
              "      <td>500000.0</td>\n",
              "      <td>Free</td>\n",
              "      <td>0.0</td>\n",
              "      <td>Everyone</td>\n",
              "      <td>Art &amp; Design;Pretend Play</td>\n",
              "      <td>...</td>\n",
              "      <td>2.0.0</td>\n",
              "      <td>4.0 and up</td>\n",
              "      <td>10-20</td>\n",
              "      <td>1</td>\n",
              "      <td>2018</td>\n",
              "      <td>0.0</td>\n",
              "      <td>A kid's excessive ads. The types ads allowed a...</td>\n",
              "      <td>Negative</td>\n",
              "      <td>-0.250</td>\n",
              "      <td>1.000000</td>\n",
              "    </tr>\n",
              "    <tr>\n",
              "      <th>1</th>\n",
              "      <td>Coloring book moana</td>\n",
              "      <td>ART_AND_DESIGN</td>\n",
              "      <td>3.9</td>\n",
              "      <td>967</td>\n",
              "      <td>14.0</td>\n",
              "      <td>500000.0</td>\n",
              "      <td>Free</td>\n",
              "      <td>0.0</td>\n",
              "      <td>Everyone</td>\n",
              "      <td>Art &amp; Design;Pretend Play</td>\n",
              "      <td>...</td>\n",
              "      <td>2.0.0</td>\n",
              "      <td>4.0 and up</td>\n",
              "      <td>10-20</td>\n",
              "      <td>1</td>\n",
              "      <td>2018</td>\n",
              "      <td>0.0</td>\n",
              "      <td>It bad &gt;:(</td>\n",
              "      <td>Negative</td>\n",
              "      <td>-0.725</td>\n",
              "      <td>0.833333</td>\n",
              "    </tr>\n",
              "    <tr>\n",
              "      <th>2</th>\n",
              "      <td>Coloring book moana</td>\n",
              "      <td>ART_AND_DESIGN</td>\n",
              "      <td>3.9</td>\n",
              "      <td>967</td>\n",
              "      <td>14.0</td>\n",
              "      <td>500000.0</td>\n",
              "      <td>Free</td>\n",
              "      <td>0.0</td>\n",
              "      <td>Everyone</td>\n",
              "      <td>Art &amp; Design;Pretend Play</td>\n",
              "      <td>...</td>\n",
              "      <td>2.0.0</td>\n",
              "      <td>4.0 and up</td>\n",
              "      <td>10-20</td>\n",
              "      <td>1</td>\n",
              "      <td>2018</td>\n",
              "      <td>0.0</td>\n",
              "      <td>like</td>\n",
              "      <td>Neutral</td>\n",
              "      <td>0.000</td>\n",
              "      <td>0.000000</td>\n",
              "    </tr>\n",
              "    <tr>\n",
              "      <th>3</th>\n",
              "      <td>Coloring book moana</td>\n",
              "      <td>ART_AND_DESIGN</td>\n",
              "      <td>3.9</td>\n",
              "      <td>967</td>\n",
              "      <td>14.0</td>\n",
              "      <td>500000.0</td>\n",
              "      <td>Free</td>\n",
              "      <td>0.0</td>\n",
              "      <td>Everyone</td>\n",
              "      <td>Art &amp; Design;Pretend Play</td>\n",
              "      <td>...</td>\n",
              "      <td>2.0.0</td>\n",
              "      <td>4.0 and up</td>\n",
              "      <td>10-20</td>\n",
              "      <td>1</td>\n",
              "      <td>2018</td>\n",
              "      <td>0.0</td>\n",
              "      <td>I love colors inspyering</td>\n",
              "      <td>Positive</td>\n",
              "      <td>0.500</td>\n",
              "      <td>0.600000</td>\n",
              "    </tr>\n",
              "    <tr>\n",
              "      <th>4</th>\n",
              "      <td>Coloring book moana</td>\n",
              "      <td>ART_AND_DESIGN</td>\n",
              "      <td>3.9</td>\n",
              "      <td>967</td>\n",
              "      <td>14.0</td>\n",
              "      <td>500000.0</td>\n",
              "      <td>Free</td>\n",
              "      <td>0.0</td>\n",
              "      <td>Everyone</td>\n",
              "      <td>Art &amp; Design;Pretend Play</td>\n",
              "      <td>...</td>\n",
              "      <td>2.0.0</td>\n",
              "      <td>4.0 and up</td>\n",
              "      <td>10-20</td>\n",
              "      <td>1</td>\n",
              "      <td>2018</td>\n",
              "      <td>0.0</td>\n",
              "      <td>I hate</td>\n",
              "      <td>Negative</td>\n",
              "      <td>-0.800</td>\n",
              "      <td>0.900000</td>\n",
              "    </tr>\n",
              "  </tbody>\n",
              "</table>\n",
              "<p>5 rows × 21 columns</p>\n",
              "</div>\n",
              "      <button class=\"colab-df-convert\" onclick=\"convertToInteractive('df-979ec7fb-2694-46ed-ab53-cd2b0cd69ecc')\"\n",
              "              title=\"Convert this dataframe to an interactive table.\"\n",
              "              style=\"display:none;\">\n",
              "        \n",
              "  <svg xmlns=\"http://www.w3.org/2000/svg\" height=\"24px\"viewBox=\"0 0 24 24\"\n",
              "       width=\"24px\">\n",
              "    <path d=\"M0 0h24v24H0V0z\" fill=\"none\"/>\n",
              "    <path d=\"M18.56 5.44l.94 2.06.94-2.06 2.06-.94-2.06-.94-.94-2.06-.94 2.06-2.06.94zm-11 1L8.5 8.5l.94-2.06 2.06-.94-2.06-.94L8.5 2.5l-.94 2.06-2.06.94zm10 10l.94 2.06.94-2.06 2.06-.94-2.06-.94-.94-2.06-.94 2.06-2.06.94z\"/><path d=\"M17.41 7.96l-1.37-1.37c-.4-.4-.92-.59-1.43-.59-.52 0-1.04.2-1.43.59L10.3 9.45l-7.72 7.72c-.78.78-.78 2.05 0 2.83L4 21.41c.39.39.9.59 1.41.59.51 0 1.02-.2 1.41-.59l7.78-7.78 2.81-2.81c.8-.78.8-2.07 0-2.86zM5.41 20L4 18.59l7.72-7.72 1.47 1.35L5.41 20z\"/>\n",
              "  </svg>\n",
              "      </button>\n",
              "      \n",
              "  <style>\n",
              "    .colab-df-container {\n",
              "      display:flex;\n",
              "      flex-wrap:wrap;\n",
              "      gap: 12px;\n",
              "    }\n",
              "\n",
              "    .colab-df-convert {\n",
              "      background-color: #E8F0FE;\n",
              "      border: none;\n",
              "      border-radius: 50%;\n",
              "      cursor: pointer;\n",
              "      display: none;\n",
              "      fill: #1967D2;\n",
              "      height: 32px;\n",
              "      padding: 0 0 0 0;\n",
              "      width: 32px;\n",
              "    }\n",
              "\n",
              "    .colab-df-convert:hover {\n",
              "      background-color: #E2EBFA;\n",
              "      box-shadow: 0px 1px 2px rgba(60, 64, 67, 0.3), 0px 1px 3px 1px rgba(60, 64, 67, 0.15);\n",
              "      fill: #174EA6;\n",
              "    }\n",
              "\n",
              "    [theme=dark] .colab-df-convert {\n",
              "      background-color: #3B4455;\n",
              "      fill: #D2E3FC;\n",
              "    }\n",
              "\n",
              "    [theme=dark] .colab-df-convert:hover {\n",
              "      background-color: #434B5C;\n",
              "      box-shadow: 0px 1px 3px 1px rgba(0, 0, 0, 0.15);\n",
              "      filter: drop-shadow(0px 1px 2px rgba(0, 0, 0, 0.3));\n",
              "      fill: #FFFFFF;\n",
              "    }\n",
              "  </style>\n",
              "\n",
              "      <script>\n",
              "        const buttonEl =\n",
              "          document.querySelector('#df-979ec7fb-2694-46ed-ab53-cd2b0cd69ecc button.colab-df-convert');\n",
              "        buttonEl.style.display =\n",
              "          google.colab.kernel.accessAllowed ? 'block' : 'none';\n",
              "\n",
              "        async function convertToInteractive(key) {\n",
              "          const element = document.querySelector('#df-979ec7fb-2694-46ed-ab53-cd2b0cd69ecc');\n",
              "          const dataTable =\n",
              "            await google.colab.kernel.invokeFunction('convertToInteractive',\n",
              "                                                     [key], {});\n",
              "          if (!dataTable) return;\n",
              "\n",
              "          const docLinkHtml = 'Like what you see? Visit the ' +\n",
              "            '<a target=\"_blank\" href=https://colab.research.google.com/notebooks/data_table.ipynb>data table notebook</a>'\n",
              "            + ' to learn more about interactive tables.';\n",
              "          element.innerHTML = '';\n",
              "          dataTable['output_type'] = 'display_data';\n",
              "          await google.colab.output.renderOutput(dataTable, element);\n",
              "          const docLink = document.createElement('div');\n",
              "          docLink.innerHTML = docLinkHtml;\n",
              "          element.appendChild(docLink);\n",
              "        }\n",
              "      </script>\n",
              "    </div>\n",
              "  </div>\n",
              "  "
            ]
          },
          "metadata": {},
          "execution_count": 41
        }
      ]
    },
    {
      "cell_type": "code",
      "source": [
        "# Let us create two disjoint dataset of the type 'Free' and 'Paid'\n",
        "type_free_df=merge_df[merge_df['Type']=='Free']\n",
        "type_paid_df=merge_df[merge_df['Type']=='Paid']\n",
        "\n",
        "# We will create a variable which contain unique 'Sentiment' and their count for the type 'Free'\n",
        "Each_Sentiment_type_free=type_free_df['Sentiment'].value_counts()\n",
        "\n",
        "# Creating the plot object\n",
        "Each_Sentiment_type_free.plot(kind='pie',autopct='%1.1f%%', subplots=True, figsize=(5, 5))\n",
        "plt.show()"
      ],
      "metadata": {
        "colab": {
          "base_uri": "https://localhost:8080/",
          "height": 303
        },
        "id": "YlHl8joqH40Q",
        "outputId": "da16ef52-a90a-48f1-d72e-eb91af2baf4b"
      },
      "execution_count": 42,
      "outputs": [
        {
          "output_type": "display_data",
          "data": {
            "text/plain": [
              "<Figure size 360x360 with 1 Axes>"
            ],
            "image/png": "[encoded data removed]"
          },
          "metadata": {}
        }
      ]
    },
    {
      "cell_type": "markdown",
      "source": [
        "Positive Have 64.11% ,Negative have 22.10% And Neutral have 13.79% in sentiments"
      ],
      "metadata": {
        "id": "JGlP653fIHUG"
      }
    },
    {
      "cell_type": "code",
      "source": [
        "# We will create a variable which contain unique 'Sentiment' and their count for the type 'Paid'\n",
        "Each_Sentiment_type_paid=type_paid_df['Sentiment'].value_counts()\n",
        "\n",
        "# Creating the plot object\n",
        "Each_Sentiment_type_paid.plot(kind='pie',autopct='%1.1f%%', subplots=True, figsize=(5, 5))\n",
        "plt.show()"
      ],
      "metadata": {
        "colab": {
          "base_uri": "https://localhost:8080/",
          "height": 303
        },
        "id": "w2xjntNzIH-5",
        "outputId": "e15384c7-c28f-44cf-857d-e0c6d7b890a6"
      },
      "execution_count": 43,
      "outputs": [
        {
          "output_type": "display_data",
          "data": {
            "text/plain": [
              "<Figure size 360x360 with 1 Axes>"
            ],
            "image/png": "[encoded data removed]"
          },
          "metadata": {}
        }
      ]
    },
    {
      "cell_type": "markdown",
      "source": [
        "Positive Have 78.1% ,Negative have 15.10% And Neutral have 6.7% in sentiments"
      ],
      "metadata": {
        "id": "DS7YEVfhIM2c"
      }
    },
    {
      "cell_type": "markdown",
      "source": [
        "#Ploting Based on Rating By Installs And Sentiment in Merge DF"
      ],
      "metadata": {
        "id": "Ole3jq0FIRCS"
      }
    },
    {
      "cell_type": "code",
      "source": [
        "#Ploting Based on Rating By Installs And Sentiment in Merge DF\n",
        "merge_df.groupby(['Installs','Sentiment'])['Rating'].count().unstack().plot(kind='bar')\n",
        "plt.title('Sentiment')\n",
        "plt.xlabel('Installs')\n",
        "plt.ylabel('Review Count')"
      ],
      "metadata": {
        "colab": {
          "base_uri": "https://localhost:8080/",
          "height": 375
        },
        "id": "2IQlocltINeT",
        "outputId": "59055ab4-c3cb-4c3d-be3d-f6ffee9e76fa"
      },
      "execution_count": 44,
      "outputs": [
        {
          "output_type": "execute_result",
          "data": {
            "text/plain": [
              "Text(0, 0.5, 'Review Count')"
            ]
          },
          "metadata": {},
          "execution_count": 44
        },
        {
          "output_type": "display_data",
          "data": {
            "text/plain": [
              "<Figure size 432x288 with 1 Axes>"
            ],
            "image/png": "[encoded data removed]"
          },
          "metadata": {
            "needs_background": "light"
          }
        }
      ]
    },
    {
      "cell_type": "markdown",
      "source": [
        "Highest Positive Installs w.r.t Review is of 100000 and 1000000"
      ],
      "metadata": {
        "id": "5xNKG4F0IZYh"
      }
    },
    {
      "cell_type": "markdown",
      "source": [
        "#Now we see the correlation between different columns."
      ],
      "metadata": {
        "id": "-k4TXURqId7R"
      }
    },
    {
      "cell_type": "code",
      "source": [
        "# Let check the correlation between Rating, Reviews, Installs , Price , Months and Year\n",
        "\n",
        "sns.heatmap(df2.corr(), annot = True, vmin=-1, vmax=1, center= 0, cmap= 'coolwarm', linewidths=2, linecolor='white')"
      ],
      "metadata": {
        "colab": {
          "base_uri": "https://localhost:8080/",
          "height": 287
        },
        "id": "2OZEESX4IXW9",
        "outputId": "01f776cd-79b4-4c7e-b821-7e24b8a5e42a"
      },
      "execution_count": 45,
      "outputs": [
        {
          "output_type": "execute_result",
          "data": {
            "text/plain": [
              "<matplotlib.axes._subplots.AxesSubplot at 0x7f32608a80d0>"
            ]
          },
          "metadata": {},
          "execution_count": 45
        },
        {
          "output_type": "display_data",
          "data": {
            "text/plain": [
              "<Figure size 432x288 with 2 Axes>"
            ],
            "image/png": "[encoded data removed]"
          },
          "metadata": {
            "needs_background": "light"
          }
        }
      ]
    },
    {
      "cell_type": "markdown",
      "source": [
        "From this correlation matrix, we see that reviews and installs are positively correlated. Also, if an app has higher number of installations then obviously it will have more reviews. One more thing to notice is that correlation of price with every column is less than 0."
      ],
      "metadata": {
        "id": "xUXaW14UInZN"
      }
    },
    {
      "cell_type": "markdown",
      "source": [
        "#Now let's have box plots for size and rating"
      ],
      "metadata": {
        "id": "XYi7zSujIq58"
      }
    },
    {
      "cell_type": "code",
      "source": [
        "# plot the box plot of reviews, size, installs and price per rating\n",
        "\n",
        "sns.set(rc={'figure.figsize':(11,4)})\n",
        "fig, axes = plt.subplots(1,2)\n",
        "sns.boxplot(data=df2,x='Rating', ax=axes[1])\n",
        "sns.boxplot(data=df2[df2['Size']!='Varies with device'],x='Size', ax=axes[0])"
      ],
      "metadata": {
        "colab": {
          "base_uri": "https://localhost:8080/",
          "height": 303
        },
        "id": "-oUI7eCrIoJn",
        "outputId": "59848286-4bfa-4077-cfdb-1ce769cfbd02"
      },
      "execution_count": 46,
      "outputs": [
        {
          "output_type": "execute_result",
          "data": {
            "text/plain": [
              "<matplotlib.axes._subplots.AxesSubplot at 0x7f325df91910>"
            ]
          },
          "metadata": {},
          "execution_count": 46
        },
        {
          "output_type": "display_data",
          "data": {
            "text/plain": [
              "<Figure size 792x288 with 2 Axes>"
            ],
            "image/png": "[encoded data removed]"
          },
          "metadata": {}
        }
      ]
    },
    {
      "cell_type": "markdown",
      "source": [
        "The Maximum size is between 0 to 30 all other are outliers\\\n",
        "The Maximum rating is between 4 to 4.5 and all others are outliers"
      ],
      "metadata": {
        "id": "MdJPAu5NIvyd"
      }
    },
    {
      "cell_type": "markdown",
      "source": [
        "#Let's see the percentage of free and paid type apps "
      ],
      "metadata": {
        "id": "KlciI3FmIy95"
      }
    },
    {
      "cell_type": "markdown",
      "source": [
        "Based On type"
      ],
      "metadata": {
        "id": "yry3csiWI9-T"
      }
    },
    {
      "cell_type": "code",
      "source": [
        "# Let check the Share of free and paid apps in terms of counts\n",
        "\n",
        "df2['Type'].value_counts().plot.pie(y = df2['Type'], figsize = (8, 6), autopct = '%1.1f%%', title = 'Type Distribution',colors = ['pink','silver'],explode=(0.05,0.05) );"
      ],
      "metadata": {
        "colab": {
          "base_uri": "https://localhost:8080/",
          "height": 373
        },
        "id": "DigMD2CXIweP",
        "outputId": "e85345d2-3af2-4947-aecb-15b9a46e75db"
      },
      "execution_count": 47,
      "outputs": [
        {
          "output_type": "display_data",
          "data": {
            "text/plain": [
              "<Figure size 576x432 with 1 Axes>"
            ],
            "image/png": "[encoded data removed]"
          },
          "metadata": {}
        }
      ]
    },
    {
      "cell_type": "markdown",
      "source": [
        "From the above pie chart,it can be easily seen that the percentage of free apps is much more than the percentage of paid apps."
      ],
      "metadata": {
        "id": "ERjWFqsIJELh"
      }
    },
    {
      "cell_type": "markdown",
      "source": [
        "# plot the graph of free and paid app count categories wise"
      ],
      "metadata": {
        "id": "6XUHR24qJHPP"
      }
    },
    {
      "cell_type": "code",
      "source": [
        "# plot the graph of free and paid app count categories wise\n",
        "\n",
        "df2_price=df2.groupby(['Category','Type'])['App'].count().unstack()\n",
        "df2_price= df2_price.fillna(0)\n",
        "\n",
        "df2_price.plot(kind=\"bar\")\n",
        "plt.title('Type of Payment')\n",
        "plt.ylabel('no_of_apps')\n",
        "plt.xlabel('Category')"
      ],
      "metadata": {
        "colab": {
          "base_uri": "https://localhost:8080/",
          "height": 448
        },
        "id": "e92PRBCVJJg1",
        "outputId": "d42e2d2c-73fa-4d2d-a97d-0ad8fc1ddc2f"
      },
      "execution_count": 48,
      "outputs": [
        {
          "output_type": "execute_result",
          "data": {
            "text/plain": [
              "Text(0.5, 0, 'Category')"
            ]
          },
          "metadata": {},
          "execution_count": 48
        },
        {
          "output_type": "display_data",
          "data": {
            "text/plain": [
              "<Figure size 792x288 with 1 Axes>"
            ],
            "image/png": "[encoded data removed]"
          },
          "metadata": {}
        }
      ]
    },
    {
      "cell_type": "markdown",
      "source": [
        "Family have highest number of Free App as compare to other Free Apps Same for Paid"
      ],
      "metadata": {
        "id": "86kjHnNlJMVR"
      }
    },
    {
      "cell_type": "markdown",
      "source": [
        "#Based on Content Rating"
      ],
      "metadata": {
        "id": "FH5WLqvOJO2h"
      }
    },
    {
      "cell_type": "code",
      "source": [
        "# Let check the Share of content rating in terms of counts\n",
        "\n",
        "explode = [0, 0, 0.2, 0.5, 0.4,0]\n",
        "pie=df2['Content Rating'].value_counts().plot.pie( figsize = (8, 6), autopct = '%1.1f%%', title = 'Content Rating Distribution',explode=explode)"
      ],
      "metadata": {
        "colab": {
          "base_uri": "https://localhost:8080/",
          "height": 373
        },
        "id": "oDXbbhOPJRNl",
        "outputId": "6b1fe56d-73f2-4e77-c890-15a041245929"
      },
      "execution_count": 49,
      "outputs": [
        {
          "output_type": "display_data",
          "data": {
            "text/plain": [
              "<Figure size 576x432 with 1 Axes>"
            ],
            "image/png": "[encoded data removed]"
          },
          "metadata": {}
        }
      ]
    },
    {
      "cell_type": "markdown",
      "source": [
        "Everyone Have 81.8%  Rating,Teen have 10.7% ,Mature 17+ have 4.1%, Everyone 10+ have 3.3% and Adults is underrated in Content Rating."
      ],
      "metadata": {
        "id": "N70ZlzppJWKh"
      }
    },
    {
      "cell_type": "markdown",
      "source": [
        "#Based on Category"
      ],
      "metadata": {
        "id": "Ujni2JF0JYu9"
      }
    },
    {
      "cell_type": "code",
      "source": [
        "# plot the graph of Top 5 Category in terms of app count\n",
        "\n",
        "category_count  = df2['Category'].value_counts().head(5)\n",
        "plt.figure(figsize=(8,6))\n",
        "sns.barplot(category_count.index, category_count.values,alpha=0.7)\n",
        "plt.title('Top 5 Category in terms of counts')\n",
        "plt.ylabel('Count occurences', fontsize=12)\n",
        "plt.xlabel('Category', fontsize=15)\n",
        "plt.xticks(rotation=90)\n",
        "for i in range(len(category_count.index)):\n",
        "  plt.text(i,category_count.values[i],category_count.values[i],ha=\"center\",va=\"bottom\")\n",
        "plt.show()"
      ],
      "metadata": {
        "colab": {
          "base_uri": "https://localhost:8080/",
          "height": 513
        },
        "id": "kvAEJ4O8JbIv",
        "outputId": "0cf2277a-7fc6-432c-a93a-40d22525d6bf"
      },
      "execution_count": 50,
      "outputs": [
        {
          "output_type": "stream",
          "name": "stderr",
          "text": [
            "/usr/local/lib/python3.7/dist-packages/seaborn/_decorators.py:43: FutureWarning: Pass the following variables as keyword args: x, y. From version 0.12, the only valid positional argument will be `data`, and passing other arguments without an explicit keyword will result in an error or misinterpretation.\n",
            "  FutureWarning\n"
          ]
        },
        {
          "output_type": "display_data",
          "data": {
            "text/plain": [
              "<Figure size 576x432 with 1 Axes>"
            ],
            "image/png": "[encoded data removed]"
          },
          "metadata": {}
        }
      ]
    },
    {
      "cell_type": "markdown",
      "source": [
        "These are the top 5 category in terms of count. we can see that the category 'FAMILY' has the highest number of apps. "
      ],
      "metadata": {
        "id": "H-FWrZv5Jepb"
      }
    },
    {
      "cell_type": "markdown",
      "source": [
        "#Now let's visualize the top 5 category in terms of installs."
      ],
      "metadata": {
        "id": "HySmt7GbJhjw"
      }
    },
    {
      "cell_type": "code",
      "source": [
        "# plot the graph of Top 5 Category in terms of app Installs\n",
        "\n",
        "categories = df2.groupby('Category')\n",
        "sum_installs= categories[['Installs']].sum()\n",
        "sum_installs=sum_installs.sort_values(by=['Installs'],ascending=False)\n",
        "sum_installs= sum_installs.reset_index()\n",
        "sum_installs=sum_installs.iloc[:5]\n",
        "plt.figure(figsize=(8,6))\n",
        "sns.barplot(x='Category', y='Installs', data=sum_installs , alpha=0.8)\n",
        "plt.title('Top 5 Category in terms of Installs')\n",
        "plt.ylabel('Installs', fontsize=15)\n",
        "plt.xlabel('Category', fontsize=15)\n",
        "plt.xticks(rotation=90)\n",
        "for i in range(len(sum_installs)):\n",
        "  plt.text(i,sum_installs.iloc[:5]['Installs'][i],\"{:.2e}\".format(sum_installs.iloc[:5]['Installs'][i]),ha=\"center\",va=\"bottom\")\n",
        "plt.show()"
      ],
      "metadata": {
        "colab": {
          "base_uri": "https://localhost:8080/",
          "height": 498
        },
        "id": "nkCTR_xjJj2f",
        "outputId": "4ff4e29c-0651-40f2-a3d6-02ff9a3f4b74"
      },
      "execution_count": 51,
      "outputs": [
        {
          "output_type": "display_data",
          "data": {
            "text/plain": [
              "<Figure size 576x432 with 1 Axes>"
            ],
            "image/png": "[encoded data removed]"
          },
          "metadata": {}
        }
      ]
    },
    {
      "cell_type": "markdown",
      "source": [
        "These are the top 5 category in terms of installs. We can observe that the category 'GAME' has the highest number of installs. Thus if we want to make an app the categories 'GAME' and 'COMMUNICATION' should be the first choices of our app category. The category 'game' also has the most number of apps in the play store (second in category in terms of count) so building a gaming app that can give competition to already built gaming apps will be a tough job. The 'communication' category has less number of apps and it will be less difficult for us to build a good app in the 'communication' category. Let's get more insights for apps in the 'GAME' and 'COMMUNICATION' Category."
      ],
      "metadata": {
        "id": "MBjaxvLmJmes"
      }
    },
    {
      "cell_type": "markdown",
      "source": [
        "#based on rating"
      ],
      "metadata": {
        "id": "nqK9itlBJoul"
      }
    },
    {
      "cell_type": "code",
      "source": [
        "sns.set_style('whitegrid')\n",
        "sns.displot(df2.Rating, kde=True, color='blue')"
      ],
      "metadata": {
        "colab": {
          "base_uri": "https://localhost:8080/",
          "height": 383
        },
        "id": "QjksdF0BJrFw",
        "outputId": "0eb7c924-39b7-48d5-cce9-18b86f7a1bc0"
      },
      "execution_count": 52,
      "outputs": [
        {
          "output_type": "execute_result",
          "data": {
            "text/plain": [
              "<seaborn.axisgrid.FacetGrid at 0x7f32608731d0>"
            ]
          },
          "metadata": {},
          "execution_count": 52
        },
        {
          "output_type": "display_data",
          "data": {
            "text/plain": [
              "<Figure size 360x360 with 1 Axes>"
            ],
            "image/png": "[encoded data removed]"
          },
          "metadata": {}
        }
      ]
    },
    {
      "cell_type": "markdown",
      "source": [
        "In the Above graph we can see that the highest rating is of 4.5 out of 0-5 range"
      ],
      "metadata": {
        "id": "5P2jU4kLJtwH"
      }
    },
    {
      "cell_type": "markdown",
      "source": [
        "# plot the graphs of reviews, size, installs and price per rating"
      ],
      "metadata": {
        "id": "mQtDFFmCJw-g"
      }
    },
    {
      "cell_type": "code",
      "source": [
        "# plot the graphs of reviews, size, installs and price per rating\n",
        "df2['Reviews'] = df2['Reviews'].apply(pd.to_numeric)\n",
        "\n",
        "ratingdf = df2.groupby('Rating').sum().reset_index()\n",
        "sns.set(rc={'figure.figsize':(11,4)})\n",
        "fig, axes = plt.subplots(1,3)\n",
        "\n",
        "#create lineplot in each subplot\n",
        "sns.lineplot(data=ratingdf, x='Rating', y='Reviews',color='green', ax=axes[0])\n",
        "sns.lineplot(data=ratingdf, x='Rating', y='Installs',color='green', ax=axes[1])\n",
        "sns.lineplot(data=ratingdf, x='Rating', y='Price',color='red', ax=axes[2])\n",
        "fig.tight_layout()\n",
        "plt.show()"
      ],
      "metadata": {
        "colab": {
          "base_uri": "https://localhost:8080/",
          "height": 293
        },
        "id": "d4Y-QyBDJy2A",
        "outputId": "42a5b58e-13d0-4b19-86f6-69d465f9dc99"
      },
      "execution_count": 60,
      "outputs": [
        {
          "output_type": "display_data",
          "data": {
            "text/plain": [
              "<Figure size 792x288 with 3 Axes>"
            ],
            "image/png": "[encoded data removed]"
          },
          "metadata": {}
        }
      ]
    },
    {
      "cell_type": "markdown",
      "source": [
        "#Based on Size Range"
      ],
      "metadata": {
        "id": "v6sCop3YMm0g"
      }
    },
    {
      "cell_type": "code",
      "source": [
        "# plot the graph of app size and it's count\n",
        "\n",
        "sizerange = df2.groupby('size_range')\n",
        "count_size= sizerange[['Size']].count()\n",
        "count_size= count_size.reset_index()\n",
        "plt.figure(figsize=(8,6))\n",
        "sns.barplot(x='size_range', y='Size', data=count_size , alpha=0.8)\n",
        "plt.title('Counts in terms of Size')\n",
        "plt.ylabel('Counts', fontsize=15)\n",
        "plt.xlabel('Size Range', fontsize=15)\n",
        "plt.xticks(rotation=90)\n",
        "for i in range(len(count_size)):\n",
        "  plt.text(i,count_size['Size'][i],(count_size['Size'][i]),ha=\"center\",va=\"bottom\")\n",
        "plt.show()"
      ],
      "metadata": {
        "colab": {
          "base_uri": "https://localhost:8080/",
          "height": 515
        },
        "id": "sdeKs2PgMmiG",
        "outputId": "49f36245-1273-4e0b-f6ed-f93fffbaa1c8"
      },
      "execution_count": 61,
      "outputs": [
        {
          "output_type": "display_data",
          "data": {
            "text/plain": [
              "<Figure size 576x432 with 1 Axes>"
            ],
            "image/png": "[encoded data removed]"
          },
          "metadata": {}
        }
      ]
    },
    {
      "cell_type": "markdown",
      "source": [
        "The Highest Size is Between 1-10Mb the count of it is 3476"
      ],
      "metadata": {
        "id": "QATMDlnFMr8H"
      }
    },
    {
      "cell_type": "code",
      "source": [
        "# plot the graph of app size and in terms of Installs"
      ],
      "metadata": {
        "id": "Ih3mPktzMsVy"
      },
      "execution_count": null,
      "outputs": []
    },
    {
      "cell_type": "code",
      "source": [
        "# plot the graph of app size and in terms of Installs\n",
        "\n",
        "sizerange= df2.groupby('size_range')\n",
        "mean_installs= sizerange[['Installs']].mean()\n",
        "mean_installs= mean_installs.reset_index()\n",
        "plt.figure(figsize=(12,6))\n",
        "sns.barplot(x='size_range', y='Installs', data=mean_installs , alpha=0.8)\n",
        "plt.title('Avg Installs in terms of Size')\n",
        "plt.ylabel('Install Count', fontsize=15)\n",
        "plt.xlabel('Size Range', fontsize=15)\n",
        "plt.xticks(rotation=90)\n",
        "for i in range(len(mean_installs)):\n",
        "  plt.text(i,mean_installs['Installs'][i],\"{:.1e}\".format(mean_installs['Installs'][i]),ha=\"center\",va=\"bottom\")\n",
        "plt.show()\n",
        "\n",
        "plt.show()"
      ],
      "metadata": {
        "colab": {
          "base_uri": "https://localhost:8080/",
          "height": 515
        },
        "id": "gt9-sledMwOQ",
        "outputId": "d1c3c13d-91f7-42ed-842a-2d43ac33b05e"
      },
      "execution_count": 62,
      "outputs": [
        {
          "output_type": "display_data",
          "data": {
            "text/plain": [
              "<Figure size 864x432 with 1 Axes>"
            ],
            "image/png": "[encoded data removed]"
          },
          "metadata": {}
        }
      ]
    },
    {
      "cell_type": "markdown",
      "source": [
        "Highest Installation have no size range it varies from device"
      ],
      "metadata": {
        "id": "7IrsxpN6Mzjs"
      }
    },
    {
      "cell_type": "markdown",
      "source": [
        "plot the graph of app size and in terms of review count"
      ],
      "metadata": {
        "id": "8VpygHKsM1f3"
      }
    },
    {
      "cell_type": "code",
      "source": [
        "# plot the graph of app size and in terms of review count\n",
        "\n",
        "sizerange= df2.groupby('size_range')\n",
        "mean_review= sizerange[['Reviews']].mean()\n",
        "mean_review= mean_review.reset_index()\n",
        "plt.figure(figsize=(12,6))\n",
        "sns.barplot(x='size_range', y='Reviews', data=mean_review , alpha=0.8)\n",
        "plt.title('Avg Reviews in terms of Size')\n",
        "plt.ylabel('Review Count', fontsize=15)\n",
        "plt.xlabel('Size Range', fontsize=15)\n",
        "plt.xticks(rotation=90)\n",
        "for i in range(len(mean_installs)):\n",
        "  plt.text(i,mean_review['Reviews'][i],\"{:.1e}\".format(mean_review['Reviews'][i]),ha=\"center\",va=\"bottom\")\n",
        "plt.show()"
      ],
      "metadata": {
        "colab": {
          "base_uri": "https://localhost:8080/",
          "height": 515
        },
        "id": "ysadSGz5M30g",
        "outputId": "475ff71e-70f5-4300-cbf8-a0ca1334ec82"
      },
      "execution_count": 63,
      "outputs": [
        {
          "output_type": "display_data",
          "data": {
            "text/plain": [
              "<Figure size 864x432 with 1 Axes>"
            ],
            "image/png": "[encoded data removed]"
          },
          "metadata": {}
        }
      ]
    },
    {
      "cell_type": "markdown",
      "source": [
        "The Highest Size range is of 90 and above w.r.t Reviews"
      ],
      "metadata": {
        "id": "p9UFok2IM9Wu"
      }
    },
    {
      "cell_type": "markdown",
      "source": [
        "#Based on Android Version"
      ],
      "metadata": {
        "id": "ChgNMqvYM_31"
      }
    },
    {
      "cell_type": "code",
      "source": [
        "# plot the graph of adroid version in terms of app count\n",
        "\n",
        "version  = df2['Android Ver'].value_counts()\n",
        "plt.figure(figsize=(8,6))\n",
        "sns.barplot(version.index, version.values,alpha=0.7)\n",
        "plt.title('Android Version in terms of counts')\n",
        "plt.ylabel('Count ', fontsize=12)\n",
        "plt.xlabel('Android Version', fontsize=15)\n",
        "plt.xticks(rotation=90)\n",
        "for i in range(len(version.index)):\n",
        "  plt.text(i,version.values[i],version.values[i],ha=\"center\",va=\"bottom\")\n",
        "plt.show()"
      ],
      "metadata": {
        "colab": {
          "base_uri": "https://localhost:8080/",
          "height": 558
        },
        "id": "hsa7LB6hNBgm",
        "outputId": "edcfcbe5-54f5-4f03-b190-49dd2a446d66"
      },
      "execution_count": 64,
      "outputs": [
        {
          "output_type": "stream",
          "name": "stderr",
          "text": [
            "/usr/local/lib/python3.7/dist-packages/seaborn/_decorators.py:43: FutureWarning: Pass the following variables as keyword args: x, y. From version 0.12, the only valid positional argument will be `data`, and passing other arguments without an explicit keyword will result in an error or misinterpretation.\n",
            "  FutureWarning\n"
          ]
        },
        {
          "output_type": "display_data",
          "data": {
            "text/plain": [
              "<Figure size 576x432 with 1 Axes>"
            ],
            "image/png": "[encoded data removed]"
          },
          "metadata": {}
        }
      ]
    },
    {
      "cell_type": "markdown",
      "source": [
        "The Most Used Android Version is 4.0 and Up the count is 6304"
      ],
      "metadata": {
        "id": "kceLHStJND48"
      }
    },
    {
      "cell_type": "markdown",
      "source": [
        "#Based On Last Update w.r.t Months"
      ],
      "metadata": {
        "id": "Jvo54fDXNGfm"
      }
    },
    {
      "cell_type": "code",
      "source": [
        "# plot the graph of app updates in month wise\n",
        "\n",
        "month = df2['month'].value_counts()\n",
        "plt.figure(figsize=(8,6))\n",
        "sns.barplot(month.index, month.values,alpha=0.7)\n",
        "plt.title('Count of Apps Updated w.r.t months')\n",
        "plt.ylabel('Update Apps Count ', fontsize=12)\n",
        "plt.xlabel('Month', fontsize=15)\n",
        "plt.xticks(rotation=90)\n",
        "plt.show()"
      ],
      "metadata": {
        "colab": {
          "base_uri": "https://localhost:8080/",
          "height": 472
        },
        "id": "LSrcp64_NEd1",
        "outputId": "01885ce5-2d98-4401-99f3-fb1117d666b8"
      },
      "execution_count": 65,
      "outputs": [
        {
          "output_type": "stream",
          "name": "stderr",
          "text": [
            "/usr/local/lib/python3.7/dist-packages/seaborn/_decorators.py:43: FutureWarning: Pass the following variables as keyword args: x, y. From version 0.12, the only valid positional argument will be `data`, and passing other arguments without an explicit keyword will result in an error or misinterpretation.\n",
            "  FutureWarning\n"
          ]
        },
        {
          "output_type": "display_data",
          "data": {
            "text/plain": [
              "<Figure size 576x432 with 1 Axes>"
            ],
            "image/png": "[encoded data removed]"
          },
          "metadata": {}
        }
      ]
    },
    {
      "cell_type": "markdown",
      "source": [
        "w.r.t Month most updates are in the month of July"
      ],
      "metadata": {
        "id": "oOilzBmuNLAE"
      }
    },
    {
      "cell_type": "markdown",
      "source": [
        "#Based On Last Update With Respect to Years"
      ],
      "metadata": {
        "id": "BPRBNgFhNOHK"
      }
    },
    {
      "cell_type": "code",
      "source": [
        "# plot the graph of app updates in Year wise\n",
        "\n",
        "year = df2['year'].value_counts()\n",
        "plt.figure(figsize=(8,6))\n",
        "sns.barplot(year.index, year.values,alpha=0.7)\n",
        "plt.title('Count of Apps Updated w.r.t year')\n",
        "plt.ylabel('Update Apps Count ', fontsize=13)\n",
        "plt.xlabel('Year', fontsize=13)\n",
        "plt.xticks(rotation=45)\n",
        "plt.show()"
      ],
      "metadata": {
        "colab": {
          "base_uri": "https://localhost:8080/",
          "height": 482
        },
        "id": "xjp6k-3VNPyq",
        "outputId": "5200385b-4ade-490c-f6c6-7bf7ceab6407"
      },
      "execution_count": 66,
      "outputs": [
        {
          "output_type": "stream",
          "name": "stderr",
          "text": [
            "/usr/local/lib/python3.7/dist-packages/seaborn/_decorators.py:43: FutureWarning: Pass the following variables as keyword args: x, y. From version 0.12, the only valid positional argument will be `data`, and passing other arguments without an explicit keyword will result in an error or misinterpretation.\n",
            "  FutureWarning\n"
          ]
        },
        {
          "output_type": "display_data",
          "data": {
            "text/plain": [
              "<Figure size 576x432 with 1 Axes>"
            ],
            "image/png": "[encoded data removed]"
          },
          "metadata": {}
        }
      ]
    },
    {
      "cell_type": "markdown",
      "source": [
        "w.r.t Years most updates are in the year 2018"
      ],
      "metadata": {
        "id": "c4QqP32VNUGc"
      }
    },
    {
      "cell_type": "markdown",
      "source": [
        "#Based On revenue Generation"
      ],
      "metadata": {
        "id": "MWDXaLWBNXE2"
      }
    },
    {
      "cell_type": "code",
      "source": [
        "# plot the graphs of Top 5 Revenue Category\n",
        "\n",
        "sizerange = df2.groupby('Category')\n",
        "count_size= sizerange[['Revenue']].sum()\n",
        "count_size=count_size.sort_values(by=['Revenue'],ascending=False)\n",
        "count_size= count_size.reset_index()\n",
        "count_size=count_size.head()\n",
        "\n",
        "plt.figure(figsize=(8,6))\n",
        "sns.barplot(y='Revenue', x='Category', data=count_size , alpha=0.8)\n",
        "plt.title('Top 5 Revenue Generating Categories')\n",
        "plt.ylabel('Counts', fontsize=15)\n",
        "plt.xlabel('Revenue Generated', fontsize=15)\n",
        "plt.xticks(rotation=90)\n",
        "for i in range(len(count_size)):\n",
        "  plt.text(i,count_size['Revenue'][i],\"{:.2e}\".format((count_size['Revenue'][i])),ha=\"center\",va=\"bottom\")\n",
        "plt.show()"
      ],
      "metadata": {
        "colab": {
          "base_uri": "https://localhost:8080/",
          "height": 485
        },
        "id": "2sgAim8nNWKQ",
        "outputId": "883ce034-8d99-4df8-a0f1-bd1a5b3c4b90"
      },
      "execution_count": 67,
      "outputs": [
        {
          "output_type": "display_data",
          "data": {
            "text/plain": [
              "<Figure size 576x432 with 1 Axes>"
            ],
            "image/png": "[encoded data removed]"
          },
          "metadata": {}
        }
      ]
    },
    {
      "cell_type": "markdown",
      "source": [
        "Highest Revenue is of Family Category"
      ],
      "metadata": {
        "id": "gWcxx21YNdi9"
      }
    }
  ]
}